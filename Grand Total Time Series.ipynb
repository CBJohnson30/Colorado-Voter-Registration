{
 "cells": [
  {
   "cell_type": "markdown",
   "metadata": {},
   "source": [
    "# Grand Total Time Series\n",
    "\n",
    "- In this notebook I will be creating a model that predicts that the number of grand total registered voters for the State of Colorado and forecasting out roughly a year in time as well."
   ]
  },
  {
   "cell_type": "code",
   "execution_count": 79,
   "metadata": {
    "collapsed": true
   },
   "outputs": [],
   "source": [
    "import pandas as pd\n",
    "import numpy as np\n",
    "from datetime import datetime, timedelta\n",
    "from sklearn.linear_model import LinearRegression\n",
    "from sklearn.ensemble import GradientBoostingRegressor\n",
    "from sklearn.model_selection import cross_val_score, cross_val_predict\n",
    "import statsmodels.api as sm\n",
    "from dateutil.relativedelta import relativedelta\n",
    "import warnings\n",
    "import itertools\n",
    "import matplotlib.pyplot as plt\n",
    "%matplotlib inline"
   ]
  },
  {
   "cell_type": "markdown",
   "metadata": {},
   "source": [
    "First I will try and predict registration changes over the data that I already have. I will be doing this using some Time Series techniques and a simple Gradient Boosting Regressor to see if it is possible to predict the changes in voter registration rates. This is not my untimite goal with modeling but I wanted to see if it could be done and it way give me some insight when I start to forecast. "
   ]
  },
  {
   "cell_type": "code",
   "execution_count": 164,
   "metadata": {
    "collapsed": true
   },
   "outputs": [],
   "source": [
    "df = pd.read_csv(\"./Data/registration_totals_and_changes.csv\")"
   ]
  },
  {
   "cell_type": "code",
   "execution_count": 165,
   "metadata": {
    "collapsed": true
   },
   "outputs": [],
   "source": [
    "# getting the columns I need\n",
    "df = df[['Date', 'County', 'Year', 'Month', 'Label','Grand Total_change']]"
   ]
  },
  {
   "cell_type": "code",
   "execution_count": 166,
   "metadata": {},
   "outputs": [
    {
     "data": {
      "text/html": [
       "<div>\n",
       "<style>\n",
       "    .dataframe thead tr:only-child th {\n",
       "        text-align: right;\n",
       "    }\n",
       "\n",
       "    .dataframe thead th {\n",
       "        text-align: left;\n",
       "    }\n",
       "\n",
       "    .dataframe tbody tr th {\n",
       "        vertical-align: top;\n",
       "    }\n",
       "</style>\n",
       "<table border=\"1\" class=\"dataframe\">\n",
       "  <thead>\n",
       "    <tr style=\"text-align: right;\">\n",
       "      <th></th>\n",
       "      <th>Date</th>\n",
       "      <th>County</th>\n",
       "      <th>Year</th>\n",
       "      <th>Month</th>\n",
       "      <th>Label</th>\n",
       "      <th>Grand Total_change</th>\n",
       "    </tr>\n",
       "  </thead>\n",
       "  <tbody>\n",
       "    <tr>\n",
       "      <th>0</th>\n",
       "      <td>2012-11-28</td>\n",
       "      <td>Yuma</td>\n",
       "      <td>2012</td>\n",
       "      <td>nov</td>\n",
       "      <td>REP</td>\n",
       "      <td>NaN</td>\n",
       "    </tr>\n",
       "    <tr>\n",
       "      <th>1</th>\n",
       "      <td>2012-11-28</td>\n",
       "      <td>La Plata</td>\n",
       "      <td>2012</td>\n",
       "      <td>nov</td>\n",
       "      <td>DEM</td>\n",
       "      <td>NaN</td>\n",
       "    </tr>\n",
       "    <tr>\n",
       "      <th>2</th>\n",
       "      <td>2012-11-28</td>\n",
       "      <td>Lake</td>\n",
       "      <td>2012</td>\n",
       "      <td>nov</td>\n",
       "      <td>DEM</td>\n",
       "      <td>NaN</td>\n",
       "    </tr>\n",
       "    <tr>\n",
       "      <th>3</th>\n",
       "      <td>2012-11-28</td>\n",
       "      <td>Larimer</td>\n",
       "      <td>2012</td>\n",
       "      <td>nov</td>\n",
       "      <td>DEM</td>\n",
       "      <td>NaN</td>\n",
       "    </tr>\n",
       "    <tr>\n",
       "      <th>4</th>\n",
       "      <td>2012-11-28</td>\n",
       "      <td>Las Animas</td>\n",
       "      <td>2012</td>\n",
       "      <td>nov</td>\n",
       "      <td>Swing</td>\n",
       "      <td>NaN</td>\n",
       "    </tr>\n",
       "  </tbody>\n",
       "</table>\n",
       "</div>"
      ],
      "text/plain": [
       "         Date      County  Year Month  Label  Grand Total_change\n",
       "0  2012-11-28        Yuma  2012   nov    REP                 NaN\n",
       "1  2012-11-28    La Plata  2012   nov    DEM                 NaN\n",
       "2  2012-11-28        Lake  2012   nov    DEM                 NaN\n",
       "3  2012-11-28     Larimer  2012   nov    DEM                 NaN\n",
       "4  2012-11-28  Las Animas  2012   nov  Swing                 NaN"
      ]
     },
     "execution_count": 166,
     "metadata": {},
     "output_type": "execute_result"
    }
   ],
   "source": [
    "df.head()"
   ]
  },
  {
   "cell_type": "code",
   "execution_count": 168,
   "metadata": {
    "collapsed": true,
    "scrolled": false
   },
   "outputs": [],
   "source": [
    "df[\"Odd_year\"] = df[\"Year\"] % 2\n",
    "df[\"Odd_year\"] = df[\"Odd_year\"].apply(str)\n",
    "df[\"Drop_month\"] = df[\"Odd_year\"] + df[\"Month\"]\n",
    "df[\"Drop_month\"] = df[\"Drop_month\"].map(lambda x: 1 if x == \"0dec\" or x == \"1jan\" or x == \"1feb\" else 0)\n",
    "df[\"Election_buzz\"] = df[\"Odd_year\"] + df[\"Month\"]\n",
    "df[\"Election_buzz\"] = df[\"Election_buzz\"].map(lambda x: 1 if x == \"0aug\" or x == \"0sept\" or x == \"0oct\" else 0)"
   ]
  },
  {
   "cell_type": "code",
   "execution_count": 169,
   "metadata": {},
   "outputs": [
    {
     "data": {
      "text/html": [
       "<div>\n",
       "<style>\n",
       "    .dataframe thead tr:only-child th {\n",
       "        text-align: right;\n",
       "    }\n",
       "\n",
       "    .dataframe thead th {\n",
       "        text-align: left;\n",
       "    }\n",
       "\n",
       "    .dataframe tbody tr th {\n",
       "        vertical-align: top;\n",
       "    }\n",
       "</style>\n",
       "<table border=\"1\" class=\"dataframe\">\n",
       "  <thead>\n",
       "    <tr style=\"text-align: right;\">\n",
       "      <th></th>\n",
       "      <th>Date</th>\n",
       "      <th>County</th>\n",
       "      <th>Year</th>\n",
       "      <th>Month</th>\n",
       "      <th>Label</th>\n",
       "      <th>Grand Total_change</th>\n",
       "      <th>Odd_year</th>\n",
       "      <th>Drop_month</th>\n",
       "      <th>Election_buzz</th>\n",
       "    </tr>\n",
       "  </thead>\n",
       "  <tbody>\n",
       "    <tr>\n",
       "      <th>0</th>\n",
       "      <td>2012-11-28</td>\n",
       "      <td>Yuma</td>\n",
       "      <td>2012</td>\n",
       "      <td>nov</td>\n",
       "      <td>REP</td>\n",
       "      <td>NaN</td>\n",
       "      <td>0</td>\n",
       "      <td>0</td>\n",
       "      <td>0</td>\n",
       "    </tr>\n",
       "    <tr>\n",
       "      <th>1</th>\n",
       "      <td>2012-11-28</td>\n",
       "      <td>La Plata</td>\n",
       "      <td>2012</td>\n",
       "      <td>nov</td>\n",
       "      <td>DEM</td>\n",
       "      <td>NaN</td>\n",
       "      <td>0</td>\n",
       "      <td>0</td>\n",
       "      <td>0</td>\n",
       "    </tr>\n",
       "    <tr>\n",
       "      <th>2</th>\n",
       "      <td>2012-11-28</td>\n",
       "      <td>Lake</td>\n",
       "      <td>2012</td>\n",
       "      <td>nov</td>\n",
       "      <td>DEM</td>\n",
       "      <td>NaN</td>\n",
       "      <td>0</td>\n",
       "      <td>0</td>\n",
       "      <td>0</td>\n",
       "    </tr>\n",
       "    <tr>\n",
       "      <th>3</th>\n",
       "      <td>2012-11-28</td>\n",
       "      <td>Larimer</td>\n",
       "      <td>2012</td>\n",
       "      <td>nov</td>\n",
       "      <td>DEM</td>\n",
       "      <td>NaN</td>\n",
       "      <td>0</td>\n",
       "      <td>0</td>\n",
       "      <td>0</td>\n",
       "    </tr>\n",
       "    <tr>\n",
       "      <th>4</th>\n",
       "      <td>2012-11-28</td>\n",
       "      <td>Las Animas</td>\n",
       "      <td>2012</td>\n",
       "      <td>nov</td>\n",
       "      <td>Swing</td>\n",
       "      <td>NaN</td>\n",
       "      <td>0</td>\n",
       "      <td>0</td>\n",
       "      <td>0</td>\n",
       "    </tr>\n",
       "  </tbody>\n",
       "</table>\n",
       "</div>"
      ],
      "text/plain": [
       "         Date      County  Year Month  Label  Grand Total_change Odd_year  \\\n",
       "0  2012-11-28        Yuma  2012   nov    REP                 NaN        0   \n",
       "1  2012-11-28    La Plata  2012   nov    DEM                 NaN        0   \n",
       "2  2012-11-28        Lake  2012   nov    DEM                 NaN        0   \n",
       "3  2012-11-28     Larimer  2012   nov    DEM                 NaN        0   \n",
       "4  2012-11-28  Las Animas  2012   nov  Swing                 NaN        0   \n",
       "\n",
       "   Drop_month  Election_buzz  \n",
       "0           0              0  \n",
       "1           0              0  \n",
       "2           0              0  \n",
       "3           0              0  \n",
       "4           0              0  "
      ]
     },
     "execution_count": 169,
     "metadata": {},
     "output_type": "execute_result"
    }
   ],
   "source": [
    "df.head()"
   ]
  },
  {
   "cell_type": "markdown",
   "metadata": {},
   "source": [
    "Now to create each counties Time Series Data Frame to train on. "
   ]
  },
  {
   "cell_type": "code",
   "execution_count": 198,
   "metadata": {
    "collapsed": true
   },
   "outputs": [],
   "source": [
    "def get_time_series(df):\n",
    "    grand_total_ts = pd.DataFrame()\n",
    "    counties = df[\"County\"].unique()\n",
    "    for count in counties:\n",
    "        county = df[df[\"County\"] == count].copy()\n",
    "        county.set_index(\"Date\", inplace=True)\n",
    "        constants = county[[\"County\", \"Year\", \"Month\", \"Label\", \"Odd_year\", \"Drop_month\", \"Election_buzz\"]]\n",
    "        totals = pd.DataFrame(county['Grand Total_change'])\n",
    "        totals[\"Grand Total_change\"] = totals[\"Grand Total_change\"].rolling(3).mean()\n",
    "        for i in range(1,4):\n",
    "            month = pd.DataFrame(totals['Grand Total_change'].shift(i))\n",
    "            month.columns = [col + \"- \" + str(i) for col in month.columns]\n",
    "            totals = pd.concat([month, totals], axis=1)\n",
    "        county_ts = pd.concat([constants, totals], axis=1)\n",
    "        grand_total_ts = pd.concat([grand_total_ts, county_ts])\n",
    "    \n",
    "    return grand_total_ts\n",
    "\n",
    "    "
   ]
  },
  {
   "cell_type": "code",
   "execution_count": 199,
   "metadata": {
    "collapsed": true
   },
   "outputs": [],
   "source": [
    "grand_total_ts = get_time_series(df)"
   ]
  },
  {
   "cell_type": "code",
   "execution_count": 200,
   "metadata": {
    "collapsed": true
   },
   "outputs": [],
   "source": [
    "grand_total_ts.dropna(inplace=True)"
   ]
  },
  {
   "cell_type": "code",
   "execution_count": 201,
   "metadata": {},
   "outputs": [
    {
     "data": {
      "text/plain": [
       "Index(['County', 'Year', 'Month', 'Label', 'Odd_year', 'Drop_month',\n",
       "       'Election_buzz', 'Grand Total_change- 3', 'Grand Total_change- 2',\n",
       "       'Grand Total_change- 1', 'Grand Total_change'],\n",
       "      dtype='object')"
      ]
     },
     "execution_count": 201,
     "metadata": {},
     "output_type": "execute_result"
    }
   ],
   "source": [
    "grand_total_ts.columns"
   ]
  },
  {
   "cell_type": "code",
   "execution_count": 216,
   "metadata": {
    "collapsed": true
   },
   "outputs": [],
   "source": [
    "X= grand_total_ts[[\"Odd_year\", 'Drop_month','Election_buzz', 'Grand Total_change- 3',\n",
    "       'Grand Total_change- 2', 'Grand Total_change- 1']]\n",
    "y= grand_total_ts[\"Grand Total_change\"]"
   ]
  },
  {
   "cell_type": "code",
   "execution_count": 244,
   "metadata": {
    "collapsed": true
   },
   "outputs": [],
   "source": [
    "gbr = GradientBoostingRegressor(n_estimators=200)"
   ]
  },
  {
   "cell_type": "code",
   "execution_count": 245,
   "metadata": {},
   "outputs": [
    {
     "data": {
      "text/plain": [
       "array([0.74654471, 0.71231933, 0.7510823 ])"
      ]
     },
     "execution_count": 245,
     "metadata": {},
     "output_type": "execute_result"
    }
   ],
   "source": [
    "cross_val_score(gbr,X,y)"
   ]
  },
  {
   "cell_type": "code",
   "execution_count": 246,
   "metadata": {
    "collapsed": true
   },
   "outputs": [],
   "source": [
    "pred = cross_val_predict(gbr,X,y)"
   ]
  },
  {
   "cell_type": "code",
   "execution_count": 247,
   "metadata": {
    "collapsed": true
   },
   "outputs": [],
   "source": [
    "grand_total_ts_pred = pd.concat([grand_total_ts, pd.DataFrame(pred, columns=['Pred'], index=grand_total_ts.index)], axis=1)"
   ]
  },
  {
   "cell_type": "code",
   "execution_count": 248,
   "metadata": {
    "collapsed": true
   },
   "outputs": [],
   "source": [
    "#grand_total_ts_pred.to_csv(\"grand_total_ts_pred.csv\")"
   ]
  },
  {
   "cell_type": "markdown",
   "metadata": {
    "collapsed": true
   },
   "source": []
  },
  {
   "cell_type": "markdown",
   "metadata": {},
   "source": [
    "# Forecasting "
   ]
  },
  {
   "cell_type": "markdown",
   "metadata": {},
   "source": [
    "The goal of this model is forecast out total voter registration out at least a year. I am going to use a seasonal ARIMA model for this forecasting because of the seasonal trends that this data contains. At first I tried to forecast out 24 months, which is one season in this data, but, after about 17 months some of the data went erratic. It would predict a smaller county to have gained 4 million voters or have negative voters. I decided to stop my forecasting at 17 months for this reason. "
   ]
  },
  {
   "cell_type": "code",
   "execution_count": 2,
   "metadata": {
    "collapsed": true
   },
   "outputs": [],
   "source": [
    "df_f = pd.read_csv(\"./Data/registration_totals_and_changes.csv\")"
   ]
  },
  {
   "cell_type": "code",
   "execution_count": 3,
   "metadata": {
    "collapsed": true
   },
   "outputs": [],
   "source": [
    "# getting the columns I need\n",
    "df_f = df_f[['Date', 'County', 'Year', 'Month', 'Label','Grand Total']]"
   ]
  },
  {
   "cell_type": "code",
   "execution_count": 4,
   "metadata": {
    "collapsed": true
   },
   "outputs": [],
   "source": [
    "df_f.set_index(\"Date\", inplace=True)"
   ]
  },
  {
   "cell_type": "code",
   "execution_count": 5,
   "metadata": {
    "collapsed": true
   },
   "outputs": [],
   "source": [
    "df_f[\"Odd_year\"] = df_f[\"Year\"] % 2\n",
    "df_f[\"Odd_year\"] = df_f[\"Odd_year\"].apply(str)\n",
    "df_f[\"Drop_month\"] = df_f[\"Odd_year\"] + df_f[\"Month\"]\n",
    "df_f[\"Drop_month\"] = df_f[\"Drop_month\"].map(lambda x: 1 if x == \"0dec\" or x == \"1jan\" or x == \"1feb\" else 0)\n",
    "df_f[\"Election_buzz\"] = df_f[\"Odd_year\"] + df_f[\"Month\"]\n",
    "df_f[\"Election_buzz\"] = df_f[\"Election_buzz\"].map(lambda x: 1 if x == \"0aug\" or x == \"0sept\" or x == \"0oct\" else 0)\n",
    "df_f[\"Odd_year\"] = df_f[\"Odd_year\"].apply(int)"
   ]
  },
  {
   "cell_type": "code",
   "execution_count": 126,
   "metadata": {
    "collapsed": true
   },
   "outputs": [],
   "source": [
    "# to test this out I am going to just use Denver county.\n",
    "county = df_f[df_f[\"County\"] == \"Denver\"]"
   ]
  },
  {
   "cell_type": "code",
   "execution_count": 127,
   "metadata": {
    "collapsed": true
   },
   "outputs": [],
   "source": [
    "exog = county[[\"Odd_year\",\"Drop_month\", \"Election_buzz\"]]\n",
    "#\"Drop_month\", \"Election_buzz\""
   ]
  },
  {
   "cell_type": "code",
   "execution_count": 128,
   "metadata": {
    "collapsed": true
   },
   "outputs": [],
   "source": [
    "# this sections of dates will follow the same pattern that I am going to forcast on.\n",
    "exog_p = exog[\"2013-11-28\":\"2015-10-28\"]"
   ]
  },
  {
   "cell_type": "code",
   "execution_count": 130,
   "metadata": {
    "collapsed": true
   },
   "outputs": [],
   "source": [
    "county_f = county[\"Grand Total\"]"
   ]
  },
  {
   "cell_type": "code",
   "execution_count": 212,
   "metadata": {
    "collapsed": true
   },
   "outputs": [],
   "source": [
    "p = [0,1,2,3]\n",
    "d = [0,1,2]\n",
    "q = [0,1]"
   ]
  },
  {
   "cell_type": "code",
   "execution_count": 213,
   "metadata": {
    "collapsed": true
   },
   "outputs": [],
   "source": [
    "pdq = list(itertools.product(p, d, q))\n",
    "seasonal_pdq = [(x[0], x[1], x[2], 24) for x in list(itertools.product(p, d, q))]"
   ]
  },
  {
   "cell_type": "code",
   "execution_count": 214,
   "metadata": {},
   "outputs": [
    {
     "name": "stdout",
     "output_type": "stream",
     "text": [
      "ARIMA(0, 0, 0)x(1, 0, 0, 24) - AIC:828.5562335262334\n",
      "ARIMA(0, 0, 0)x(1, 1, 0, 24) - AIC:228.10134657274304\n",
      "ARIMA(0, 0, 0)x(2, 0, 0, 24) - AIC:218.2084994300039\n",
      "ARIMA(0, 0, 1)x(0, 0, 0, 24) - AIC:1637.4941834390793\n",
      "ARIMA(0, 0, 1)x(0, 1, 0, 24) - AIC:769.0802690640348\n",
      "ARIMA(0, 0, 1)x(0, 2, 0, 24) - AIC:243.85788308741834\n",
      "ARIMA(0, 0, 1)x(1, 0, 0, 24) - AIC:1009.3345453760687\n",
      "ARIMA(0, 0, 1)x(1, 1, 0, 24) - AIC:268.92100062415926\n",
      "ARIMA(0, 0, 1)x(2, 0, 0, 24) - AIC:342.4158856668583\n",
      "ARIMA(0, 1, 0)x(1, 0, 0, 24) - AIC:751.851064079422\n",
      "ARIMA(0, 1, 0)x(1, 1, 0, 24) - AIC:194.1193913486374\n",
      "ARIMA(0, 1, 0)x(2, 0, 0, 24) - AIC:188.8816902477986\n",
      "ARIMA(0, 1, 1)x(0, 0, 0, 24) - AIC:1196.1165777778992\n",
      "ARIMA(0, 1, 1)x(0, 1, 0, 24) - AIC:730.3777366948052\n",
      "ARIMA(0, 1, 1)x(0, 2, 0, 24) - AIC:216.8762404243708\n",
      "ARIMA(0, 1, 1)x(1, 0, 0, 24) - AIC:757.534131518371\n",
      "ARIMA(0, 1, 1)x(1, 1, 0, 24) - AIC:227.5696290184142\n",
      "ARIMA(0, 1, 1)x(2, 0, 0, 24) - AIC:227.49404996703043\n",
      "ARIMA(0, 2, 0)x(1, 0, 0, 24) - AIC:747.4041623441847\n",
      "ARIMA(0, 2, 0)x(1, 1, 0, 24) - AIC:176.01746247060595\n",
      "ARIMA(0, 2, 0)x(2, 0, 0, 24) - AIC:171.6708313197955\n",
      "ARIMA(0, 2, 1)x(0, 0, 0, 24) - AIC:1193.4983324920356\n",
      "ARIMA(0, 2, 1)x(0, 1, 0, 24) - AIC:716.5172365182095\n",
      "ARIMA(0, 2, 1)x(0, 2, 0, 24) - AIC:189.7072353069443\n",
      "ARIMA(0, 2, 1)x(1, 0, 0, 24) - AIC:735.383531863399\n",
      "ARIMA(0, 2, 1)x(1, 1, 0, 24) - AIC:211.23108112070503\n",
      "ARIMA(0, 2, 1)x(2, 0, 0, 24) - AIC:210.5231417944063\n",
      "ARIMA(1, 0, 0)x(0, 0, 0, 24) - AIC:1251.3162361651646\n",
      "ARIMA(1, 0, 0)x(0, 1, 0, 24) - AIC:767.6531391078131\n",
      "ARIMA(1, 0, 0)x(0, 2, 0, 24) - AIC:264.1604497156899\n",
      "ARIMA(1, 0, 0)x(1, 0, 0, 24) - AIC:754.6962882483502\n",
      "ARIMA(1, 0, 0)x(1, 1, 0, 24) - AIC:191.27971974054282\n",
      "ARIMA(1, 0, 0)x(2, 0, 0, 24) - AIC:229.65113019494837\n",
      "ARIMA(1, 0, 1)x(0, 0, 0, 24) - AIC:1233.2061955302477\n",
      "ARIMA(1, 0, 1)x(0, 1, 0, 24) - AIC:750.9862592161978\n",
      "ARIMA(1, 0, 1)x(0, 2, 0, 24) - AIC:255.66641904363027\n",
      "ARIMA(1, 0, 1)x(1, 0, 0, 24) - AIC:759.6912887257397\n",
      "ARIMA(1, 0, 1)x(1, 1, 0, 24) - AIC:230.09588994935197\n",
      "ARIMA(1, 0, 1)x(2, 0, 0, 24) - AIC:229.28984474664827\n",
      "ARIMA(1, 1, 0)x(0, 0, 0, 24) - AIC:1230.0915799946542\n",
      "ARIMA(1, 1, 0)x(0, 1, 0, 24) - AIC:744.639750266472\n",
      "ARIMA(1, 1, 0)x(0, 2, 0, 24) - AIC:240.71384940214128\n",
      "ARIMA(1, 1, 0)x(1, 0, 0, 24) - AIC:734.6556667598056\n",
      "ARIMA(1, 1, 0)x(1, 1, 0, 24) - AIC:176.04612957742904\n",
      "ARIMA(1, 1, 0)x(2, 0, 0, 24) - AIC:209.48194918974423\n",
      "ARIMA(1, 1, 1)x(0, 0, 0, 24) - AIC:1198.0963802878732\n",
      "ARIMA(1, 1, 1)x(0, 1, 0, 24) - AIC:728.0439876429374\n",
      "ARIMA(1, 1, 1)x(0, 2, 0, 24) - AIC:203.18520509980715\n",
      "ARIMA(1, 1, 1)x(1, 0, 0, 24) - AIC:730.4653839022129\n",
      "ARIMA(1, 1, 1)x(1, 1, 0, 24) - AIC:209.32528777429746\n",
      "ARIMA(1, 1, 1)x(2, 0, 0, 24) - AIC:209.01145899053668\n",
      "ARIMA(1, 2, 0)x(0, 0, 0, 24) - AIC:1222.0062762471086\n",
      "ARIMA(1, 2, 0)x(0, 1, 0, 24) - AIC:742.9599926459083\n",
      "ARIMA(1, 2, 0)x(0, 2, 0, 24) - AIC:222.9489693260431\n",
      "ARIMA(1, 2, 0)x(1, 0, 0, 24) - AIC:728.3906509851197\n",
      "ARIMA(1, 2, 0)x(1, 1, 0, 24) - AIC:198.57648456944378\n",
      "ARIMA(1, 2, 0)x(2, 0, 0, 24) - AIC:191.3966171969495\n",
      "ARIMA(1, 2, 1)x(0, 0, 0, 24) - AIC:1194.5512740324339\n",
      "ARIMA(1, 2, 1)x(0, 1, 0, 24) - AIC:704.4382879794625\n",
      "ARIMA(1, 2, 1)x(0, 2, 0, 24) - AIC:187.25683046829107\n",
      "ARIMA(1, 2, 1)x(1, 0, 0, 24) - AIC:716.1704208298103\n",
      "ARIMA(1, 2, 1)x(1, 1, 0, 24) - AIC:192.49989077602584\n",
      "ARIMA(1, 2, 1)x(2, 0, 0, 24) - AIC:192.15543100298905\n",
      "ARIMA(2, 0, 0)x(0, 0, 0, 24) - AIC:1231.8595578725003\n",
      "ARIMA(2, 0, 0)x(0, 1, 0, 24) - AIC:745.6929682737103\n",
      "ARIMA(2, 0, 0)x(0, 2, 0, 24) - AIC:242.54416470332745\n",
      "ARIMA(2, 0, 0)x(1, 0, 0, 24) - AIC:736.53211102359\n",
      "ARIMA(2, 0, 0)x(1, 1, 0, 24) - AIC:172.0288783109634\n",
      "ARIMA(2, 0, 0)x(2, 0, 0, 24) - AIC:211.43598779798688\n",
      "ARIMA(2, 0, 1)x(0, 0, 0, 24) - AIC:1225.430240670096\n",
      "ARIMA(2, 0, 1)x(0, 1, 0, 24) - AIC:749.65217028654\n",
      "ARIMA(2, 0, 1)x(0, 2, 0, 24) - AIC:238.57711853247199\n",
      "ARIMA(2, 0, 1)x(1, 0, 0, 24) - AIC:729.3995309245483\n",
      "ARIMA(2, 0, 1)x(1, 1, 0, 24) - AIC:211.87739841985544\n",
      "ARIMA(2, 0, 1)x(2, 0, 0, 24) - AIC:211.31627409784798\n",
      "ARIMA(2, 1, 0)x(0, 0, 0, 24) - AIC:1198.0613924053237\n",
      "ARIMA(2, 1, 0)x(0, 1, 0, 24) - AIC:720.6203578180147\n",
      "ARIMA(2, 1, 0)x(0, 2, 0, 24) - AIC:217.71621619008684\n",
      "ARIMA(2, 1, 0)x(1, 0, 0, 24) - AIC:719.0923724189181\n",
      "ARIMA(2, 1, 0)x(1, 1, 0, 24) - AIC:193.93722070040823\n",
      "ARIMA(2, 1, 0)x(2, 0, 0, 24) - AIC:165.84296263331336\n",
      "ARIMA(2, 1, 1)x(0, 0, 0, 24) - AIC:1199.9041563392773\n",
      "ARIMA(2, 1, 1)x(0, 1, 0, 24) - AIC:712.474977907286\n",
      "ARIMA(2, 1, 1)x(0, 2, 0, 24) - AIC:212.27750805535382\n",
      "ARIMA(2, 1, 1)x(1, 0, 0, 24) - AIC:710.1404709584201\n",
      "ARIMA(2, 1, 1)x(1, 1, 0, 24) - AIC:191.16689891865826\n",
      "ARIMA(2, 1, 1)x(2, 0, 0, 24) - AIC:191.49887850865775\n",
      "ARIMA(2, 2, 0)x(0, 0, 0, 24) - AIC:1195.5470442803116\n",
      "ARIMA(2, 2, 0)x(0, 1, 0, 24) - AIC:697.3069474103651\n",
      "ARIMA(2, 2, 0)x(0, 2, 0, 24) - AIC:183.66372358221201\n",
      "ARIMA(2, 2, 0)x(1, 0, 0, 24) - AIC:679.4897668644288\n",
      "ARIMA(2, 2, 0)x(1, 1, 0, 24) - AIC:172.87292207015898\n",
      "ARIMA(2, 2, 0)x(2, 0, 0, 24) - AIC:171.97630540597214\n",
      "ARIMA(2, 2, 1)x(0, 0, 0, 24) - AIC:1196.0028020318139\n",
      "ARIMA(2, 2, 1)x(0, 1, 0, 24) - AIC:699.3166928524877\n",
      "ARIMA(2, 2, 1)x(0, 2, 0, 24) - AIC:184.93211471280455\n",
      "ARIMA(2, 2, 1)x(1, 0, 0, 24) - AIC:667.6253070817049\n",
      "ARIMA(2, 2, 1)x(1, 1, 0, 24) - AIC:173.97987863321185\n",
      "ARIMA(2, 2, 1)x(2, 0, 0, 24) - AIC:173.86194460215017\n",
      "ARIMA(3, 0, 0)x(0, 0, 0, 24) - AIC:1200.0613193843576\n",
      "ARIMA(3, 0, 0)x(0, 1, 0, 24) - AIC:722.1405749843357\n",
      "ARIMA(3, 0, 0)x(0, 2, 0, 24) - AIC:219.68963555919262\n",
      "ARIMA(3, 0, 0)x(1, 0, 0, 24) - AIC:720.939220209935\n",
      "ARIMA(3, 0, 0)x(1, 1, 0, 24) - AIC:195.7942298860115\n",
      "ARIMA(3, 0, 0)x(2, 0, 0, 24) - AIC:191.2777059196128\n",
      "ARIMA(3, 0, 1)x(0, 0, 0, 24) - AIC:1201.7875031720043\n",
      "ARIMA(3, 0, 1)x(0, 1, 0, 24) - AIC:711.5536882509751\n",
      "ARIMA(3, 0, 1)x(0, 2, 0, 24) - AIC:199.40014083252615\n",
      "ARIMA(3, 0, 1)x(1, 0, 0, 24) - AIC:697.5407056671688\n",
      "ARIMA(3, 0, 1)x(1, 1, 0, 24) - AIC:193.69306420824176\n",
      "ARIMA(3, 0, 1)x(2, 0, 0, 24) - AIC:193.38947792815677\n",
      "ARIMA(3, 1, 0)x(0, 0, 0, 24) - AIC:1179.375130799585\n",
      "ARIMA(3, 1, 0)x(0, 1, 0, 24) - AIC:683.6335961746885\n",
      "ARIMA(3, 1, 0)x(0, 2, 0, 24) - AIC:154.6066485496753\n",
      "ARIMA(3, 1, 0)x(1, 0, 0, 24) - AIC:660.872868539266\n",
      "ARIMA(3, 1, 0)x(1, 1, 0, 24) - AIC:170.97759505647707\n",
      "ARIMA(3, 1, 0)x(2, 0, 0, 24) - AIC:171.38991946980798\n",
      "ARIMA(3, 1, 1)x(0, 0, 0, 24) - AIC:1180.7938164340962\n",
      "ARIMA(3, 1, 1)x(0, 1, 0, 24) - AIC:684.6558210030134\n",
      "ARIMA(3, 1, 1)x(0, 2, 0, 24) - AIC:154.97791763515642\n",
      "ARIMA(3, 1, 1)x(1, 0, 0, 24) - AIC:662.7028001175994\n",
      "ARIMA(3, 1, 1)x(1, 1, 0, 24) - AIC:172.98868784198874\n",
      "ARIMA(3, 1, 1)x(2, 0, 0, 24) - AIC:173.49657615264238\n",
      "ARIMA(3, 2, 0)x(0, 0, 0, 24) - AIC:1174.9320157104141\n",
      "ARIMA(3, 2, 0)x(0, 1, 0, 24) - AIC:673.5445305678362\n",
      "ARIMA(3, 2, 0)x(0, 2, 0, 24) - AIC:142.71612114290588\n",
      "ARIMA(3, 2, 0)x(1, 0, 0, 24) - AIC:650.2829004971105\n",
      "ARIMA(3, 2, 0)x(1, 1, 0, 24) - AIC:131.71301289167138\n",
      "ARIMA(3, 2, 0)x(2, 0, 0, 24) - AIC:153.51864164241127\n",
      "ARIMA(3, 2, 1)x(0, 0, 0, 24) - AIC:1175.7199591663623\n",
      "ARIMA(3, 2, 1)x(0, 1, 0, 24) - AIC:675.4658415008405\n",
      "ARIMA(3, 2, 1)x(0, 2, 0, 24) - AIC:141.42815944678875\n",
      "ARIMA(3, 2, 1)x(1, 0, 0, 24) - AIC:649.3273580687043\n",
      "ARIMA(3, 2, 1)x(1, 1, 0, 24) - AIC:155.43190175996966\n",
      "ARIMA(3, 2, 1)x(2, 0, 0, 24) - AIC:155.62303255963917\n"
     ]
    }
   ],
   "source": [
    "warnings.filterwarnings(\"ignore\")\n",
    "for param in pdq:\n",
    "    for param_seasonal in seasonal_pdq:\n",
    "        try:\n",
    "            mod = sm.tsa.statespace.SARIMAX(county_f,\n",
    "                                            order=param,\n",
    "                                            seasonal_order=param_seasonal,\n",
    "                                            enforce_stationarity=False,\n",
    "                                            enforce_invertibility=False)\n",
    "\n",
    "            results = mod.fit()\n",
    "\n",
    "            print('ARIMA{}x{} - AIC:{}'.format(param, param_seasonal, results.aic))\n",
    "        except:\n",
    "            continue"
   ]
  },
  {
   "cell_type": "markdown",
   "metadata": {},
   "source": [
    "I thought running a grid search for this for every county would be to tasking on my computer. I picked a few counties and looked for the top four lowest AIC's them compaired them to eachother. \n"
   ]
  },
  {
   "cell_type": "markdown",
   "metadata": {},
   "source": [
    "From looking at ARIMA models in different blogs and videos AIC(Akaike Information Critera) is the prefered way judge a ARIMA Model. But after looking at the results in Tableau I decided that AIC might not be the best was for me to judge my model. I decided to to a little experimenting and use what I know about ARIMA models to get the best forecast. I know because of my large season and small data set I could not go past one season. I also know that I wanted at least one in the middle or integrated column. That led me to test the AR and MA spots in the model. After some time testing and looking at the results in Tableau I was able to find variables that I liked. "
   ]
  },
  {
   "cell_type": "code",
   "execution_count": 215,
   "metadata": {},
   "outputs": [
    {
     "name": "stdout",
     "output_type": "stream",
     "text": [
      "==============================================================================\n",
      "                 coef    std err          z      P>|z|      [0.025      0.975]\n",
      "------------------------------------------------------------------------------\n",
      "ar.L1         -0.1979          0       -inf      0.000      -0.198      -0.198\n",
      "ar.L2         -0.0939          0       -inf      0.000      -0.094      -0.094\n",
      "ar.L3         -0.0201          0       -inf      0.000      -0.020      -0.020\n",
      "ar.S.L24      -0.8863          0       -inf      0.000      -0.886      -0.886\n",
      "var.x1         0.0027   3.59e+05   7.45e-09      1.000   -7.04e+05    7.04e+05\n",
      "var.x2         0.0015   9.06e+05    1.7e-09      1.000   -1.78e+06    1.78e+06\n",
      "var.x3         0.0856   1.35e+06   6.35e-08      1.000   -2.64e+06    2.64e+06\n",
      "sigma2       1.33e+07   1.44e+06      9.234      0.000    1.05e+07    1.61e+07\n",
      "==============================================================================\n"
     ]
    }
   ],
   "source": [
    "mod = sm.tsa.statespace.SARIMAX(county_f.values, exog=exog.values, order=(3, 1, 0), seasonal_order=(1, 1, 0, 24), trend=\"n\",time_varying_regression=True,mle_regression=False)\n",
    "#exog=exog.values\n",
    "res = mod.fit()\n",
    "\n",
    "print(res.summary().tables[1])"
   ]
  },
  {
   "cell_type": "code",
   "execution_count": 216,
   "metadata": {},
   "outputs": [
    {
     "data": {
      "text/plain": [
       "array([453320.87037643, 455139.66056126, 456356.68199683, 457847.19054713,\n",
       "       460067.21384212, 461988.93556   , 462802.3944671 , 465081.87821046,\n",
       "       468163.82817298, 472762.43975913, 478603.55439104, 486415.35816889,\n",
       "       489924.64015794, 490642.05076292, 467815.95236186, 448271.6193019 ,\n",
       "       448569.0919796 , 449392.72673813, 450439.26265107, 451532.11135993,\n",
       "       452621.96139855, 453610.85620579, 454294.55301985, 455086.2019625 ])"
      ]
     },
     "execution_count": 216,
     "metadata": {},
     "output_type": "execute_result"
    }
   ],
   "source": [
    "res.forecast(24,exog=exog_p)"
   ]
  },
  {
   "cell_type": "code",
   "execution_count": 217,
   "metadata": {
    "collapsed": true
   },
   "outputs": [],
   "source": [
    "future = res.forecast(24,exog=exog_p)"
   ]
  },
  {
   "cell_type": "code",
   "execution_count": 218,
   "metadata": {
    "collapsed": true
   },
   "outputs": [],
   "source": [
    "start = datetime.strptime(\"2017-11-28\", \"%Y-%m-%d\")\n",
    "date_list = [start + relativedelta(months=x) for x in range(0,24)]\n",
    "future = pd.DataFrame(index=date_list)\n",
    "future[\"Forecast\"] = res.forecast(24,exog=exog_p)\n",
    "county_fv = pd.concat([county_f, future])"
   ]
  },
  {
   "cell_type": "code",
   "execution_count": 219,
   "metadata": {
    "collapsed": true
   },
   "outputs": [],
   "source": [
    "county_name = county[\"County\"].unique()"
   ]
  },
  {
   "cell_type": "code",
   "execution_count": 220,
   "metadata": {},
   "outputs": [
    {
     "data": {
      "text/plain": [
       "array(['Denver'], dtype=object)"
      ]
     },
     "execution_count": 220,
     "metadata": {},
     "output_type": "execute_result"
    }
   ],
   "source": [
    "county_name"
   ]
  },
  {
   "cell_type": "code",
   "execution_count": 221,
   "metadata": {
    "collapsed": true
   },
   "outputs": [],
   "source": [
    "county_label = county[\"Label\"].unique()"
   ]
  },
  {
   "cell_type": "code",
   "execution_count": 222,
   "metadata": {
    "collapsed": true
   },
   "outputs": [],
   "source": [
    "county_fv[\"County\"] = county_name[0]"
   ]
  },
  {
   "cell_type": "code",
   "execution_count": 223,
   "metadata": {
    "collapsed": true
   },
   "outputs": [],
   "source": [
    "county_fv[\"Label\"] = county_label[0]"
   ]
  },
  {
   "cell_type": "code",
   "execution_count": 224,
   "metadata": {
    "collapsed": true
   },
   "outputs": [],
   "source": [
    "county_fv.rename(columns={0:\"Grand_total\"}, inplace=True)"
   ]
  },
  {
   "cell_type": "code",
   "execution_count": 225,
   "metadata": {},
   "outputs": [
    {
     "name": "stdout",
     "output_type": "stream",
     "text": [
      "            Grand_total  Forecast  County Label\n",
      "2012-11-28     484521.0       NaN  Denver   DEM\n",
      "2012-12-28     484722.0       NaN  Denver   DEM\n",
      "2013-01-28     451481.0       NaN  Denver   DEM\n",
      "2013-02-28     451579.0       NaN  Denver   DEM\n",
      "2013-03-28     451693.0       NaN  Denver   DEM\n"
     ]
    },
    {
     "data": {
      "text/html": [
       "<div>\n",
       "<style>\n",
       "    .dataframe thead tr:only-child th {\n",
       "        text-align: right;\n",
       "    }\n",
       "\n",
       "    .dataframe thead th {\n",
       "        text-align: left;\n",
       "    }\n",
       "\n",
       "    .dataframe tbody tr th {\n",
       "        vertical-align: top;\n",
       "    }\n",
       "</style>\n",
       "<table border=\"1\" class=\"dataframe\">\n",
       "  <thead>\n",
       "    <tr style=\"text-align: right;\">\n",
       "      <th></th>\n",
       "      <th>Grand_total</th>\n",
       "      <th>Forecast</th>\n",
       "      <th>County</th>\n",
       "      <th>Label</th>\n",
       "    </tr>\n",
       "  </thead>\n",
       "  <tbody>\n",
       "    <tr>\n",
       "      <th>2019-06-28 00:00:00</th>\n",
       "      <td>NaN</td>\n",
       "      <td>451532.111360</td>\n",
       "      <td>Denver</td>\n",
       "      <td>DEM</td>\n",
       "    </tr>\n",
       "    <tr>\n",
       "      <th>2019-07-28 00:00:00</th>\n",
       "      <td>NaN</td>\n",
       "      <td>452621.961399</td>\n",
       "      <td>Denver</td>\n",
       "      <td>DEM</td>\n",
       "    </tr>\n",
       "    <tr>\n",
       "      <th>2019-08-28 00:00:00</th>\n",
       "      <td>NaN</td>\n",
       "      <td>453610.856206</td>\n",
       "      <td>Denver</td>\n",
       "      <td>DEM</td>\n",
       "    </tr>\n",
       "    <tr>\n",
       "      <th>2019-09-28 00:00:00</th>\n",
       "      <td>NaN</td>\n",
       "      <td>454294.553020</td>\n",
       "      <td>Denver</td>\n",
       "      <td>DEM</td>\n",
       "    </tr>\n",
       "    <tr>\n",
       "      <th>2019-10-28 00:00:00</th>\n",
       "      <td>NaN</td>\n",
       "      <td>455086.201962</td>\n",
       "      <td>Denver</td>\n",
       "      <td>DEM</td>\n",
       "    </tr>\n",
       "  </tbody>\n",
       "</table>\n",
       "</div>"
      ],
      "text/plain": [
       "                     Grand_total       Forecast  County Label\n",
       "2019-06-28 00:00:00          NaN  451532.111360  Denver   DEM\n",
       "2019-07-28 00:00:00          NaN  452621.961399  Denver   DEM\n",
       "2019-08-28 00:00:00          NaN  453610.856206  Denver   DEM\n",
       "2019-09-28 00:00:00          NaN  454294.553020  Denver   DEM\n",
       "2019-10-28 00:00:00          NaN  455086.201962  Denver   DEM"
      ]
     },
     "execution_count": 225,
     "metadata": {},
     "output_type": "execute_result"
    }
   ],
   "source": [
    "print(county_fv.head())\n",
    "county_fv.tail()"
   ]
  },
  {
   "cell_type": "markdown",
   "metadata": {},
   "source": [
    "This is the graph for Denver County."
   ]
  },
  {
   "cell_type": "code",
   "execution_count": 226,
   "metadata": {},
   "outputs": [
    {
     "data": {
      "text/plain": [
       "<matplotlib.axes._subplots.AxesSubplot at 0x10bf1dcc0>"
      ]
     },
     "execution_count": 226,
     "metadata": {},
     "output_type": "execute_result"
    },
    {
     "data": {
      "image/png": "[encoded data removed]",
      "text/plain": [
       "<matplotlib.figure.Figure at 0x10bebcf98>"
      ]
     },
     "metadata": {},
     "output_type": "display_data"
    }
   ],
   "source": [
    "county_fv[[\"Grand_total\", 'Forecast']].plot(figsize=(12, 8)) "
   ]
  },
  {
   "cell_type": "markdown",
   "metadata": {},
   "source": [
    "Below is a model to forecast on every county in Colorado. "
   ]
  },
  {
   "cell_type": "code",
   "execution_count": 266,
   "metadata": {
    "collapsed": true
   },
   "outputs": [],
   "source": [
    "def get_total_forecast(file_path): #\"./Data/registration_totals_and_changes.csv\"\n",
    "    df_f = pd.read_csv(file_path)\n",
    "    county_forecasts = pd.DataFrame()\n",
    "    \n",
    "    df_f = df_f[['Date', 'County', 'Year', 'Month', 'Label','Grand Total']]\n",
    "    df_f.set_index(\"Date\", inplace=True)\n",
    "    df_f[\"Odd_year\"] = df_f[\"Year\"] % 2\n",
    "    df_f[\"Odd_year\"] = df_f[\"Odd_year\"].apply(str)\n",
    "    df_f[\"Drop_month\"] = df_f[\"Odd_year\"] + df_f[\"Month\"]\n",
    "    df_f[\"Drop_month\"] = df_f[\"Drop_month\"].map(lambda x: 1 if x == \"0dec\" or x == \"1jan\" or x == \"1feb\" else 0)\n",
    "    df_f[\"Election_buzz\"] = df_f[\"Odd_year\"] + df_f[\"Month\"]\n",
    "    df_f[\"Election_buzz\"] = df_f[\"Election_buzz\"].map(lambda x: 1 if x == \"0aug\" or x == \"0sept\" or x == \"0oct\" else 0)\n",
    "    df_f[\"Odd_year\"] = df_f[\"Odd_year\"].apply(int)\n",
    "    \n",
    "    \n",
    "    for count in df_f[\"County\"].unique():\n",
    "        county = df_f[df_f[\"County\"] == count]\n",
    "        exog_ts = county[[\"Odd_year\",\"Drop_month\", \"Election_buzz\"]]\n",
    "        exog_p = exog_ts[\"2013-11-28\":\"2015-03-28\"]\n",
    "        county_f = county[\"Grand Total\"]\n",
    "#        print(count)\n",
    "        mod = sm.tsa.statespace.SARIMAX(county_f.values, exog=exog_ts.values, order=(3, 1, 0), seasonal_order=(1, 1, 0, 24),\n",
    "                                        trend=\"n\", time_varying_regression=True, mle_regression=False, enforce_stationarity=False)\n",
    "        res = mod.fit()\n",
    "        \n",
    "        start = datetime.strptime(\"2017-11-28\", \"%Y-%m-%d\")\n",
    "        date_list = [start + relativedelta(months=x) for x in range(0,17)]\n",
    "        future = pd.DataFrame(index=date_list)\n",
    "        future[\"Forecast\"] = res.forecast(17,exog=exog_p)\n",
    "        county_fv = pd.concat([county_f, future])\n",
    "        \n",
    "        county_name = county[\"County\"].unique()\n",
    "        county_label = county[\"Label\"].unique()\n",
    "        county_fv[\"County\"] = county_name[0]\n",
    "        county_fv[\"Label\"] = county_label[0]\n",
    "        county_fv.rename(columns={0:\"Grand_total\"}, inplace=True)\n",
    "        county_forecasts = pd.concat([county_forecasts, county_fv])\n",
    "        \n",
    "    return county_forecasts\n"
   ]
  },
  {
   "cell_type": "code",
   "execution_count": 267,
   "metadata": {
    "collapsed": true
   },
   "outputs": [],
   "source": [
    "county_total_forecasts = get_total_forecast(\"./Data/registration_totals_and_changes.csv\")"
   ]
  },
  {
   "cell_type": "code",
   "execution_count": 269,
   "metadata": {
    "collapsed": true
   },
   "outputs": [],
   "source": [
    "#county_total_forecasts.to_csv(\"county_total_forecasts.csv\")"
   ]
  },
  {
   "cell_type": "code",
   "execution_count": 268,
   "metadata": {},
   "outputs": [
    {
     "data": {
      "text/html": [
       "<div>\n",
       "<style>\n",
       "    .dataframe thead tr:only-child th {\n",
       "        text-align: right;\n",
       "    }\n",
       "\n",
       "    .dataframe thead th {\n",
       "        text-align: left;\n",
       "    }\n",
       "\n",
       "    .dataframe tbody tr th {\n",
       "        vertical-align: top;\n",
       "    }\n",
       "</style>\n",
       "<table border=\"1\" class=\"dataframe\">\n",
       "  <thead>\n",
       "    <tr style=\"text-align: right;\">\n",
       "      <th></th>\n",
       "      <th>Grand_total</th>\n",
       "      <th>Forecast</th>\n",
       "      <th>County</th>\n",
       "      <th>Label</th>\n",
       "    </tr>\n",
       "  </thead>\n",
       "  <tbody>\n",
       "    <tr>\n",
       "      <th>2012-11-28</th>\n",
       "      <td>6396.0</td>\n",
       "      <td>NaN</td>\n",
       "      <td>Yuma</td>\n",
       "      <td>REP</td>\n",
       "    </tr>\n",
       "    <tr>\n",
       "      <th>2012-12-28</th>\n",
       "      <td>6327.0</td>\n",
       "      <td>NaN</td>\n",
       "      <td>Yuma</td>\n",
       "      <td>REP</td>\n",
       "    </tr>\n",
       "    <tr>\n",
       "      <th>2013-01-28</th>\n",
       "      <td>6322.0</td>\n",
       "      <td>NaN</td>\n",
       "      <td>Yuma</td>\n",
       "      <td>REP</td>\n",
       "    </tr>\n",
       "    <tr>\n",
       "      <th>2013-02-28</th>\n",
       "      <td>6331.0</td>\n",
       "      <td>NaN</td>\n",
       "      <td>Yuma</td>\n",
       "      <td>REP</td>\n",
       "    </tr>\n",
       "    <tr>\n",
       "      <th>2013-03-28</th>\n",
       "      <td>6340.0</td>\n",
       "      <td>NaN</td>\n",
       "      <td>Yuma</td>\n",
       "      <td>REP</td>\n",
       "    </tr>\n",
       "    <tr>\n",
       "      <th>2013-04-28</th>\n",
       "      <td>6348.0</td>\n",
       "      <td>NaN</td>\n",
       "      <td>Yuma</td>\n",
       "      <td>REP</td>\n",
       "    </tr>\n",
       "    <tr>\n",
       "      <th>2013-05-28</th>\n",
       "      <td>6355.0</td>\n",
       "      <td>NaN</td>\n",
       "      <td>Yuma</td>\n",
       "      <td>REP</td>\n",
       "    </tr>\n",
       "    <tr>\n",
       "      <th>2013-06-28</th>\n",
       "      <td>6366.0</td>\n",
       "      <td>NaN</td>\n",
       "      <td>Yuma</td>\n",
       "      <td>REP</td>\n",
       "    </tr>\n",
       "    <tr>\n",
       "      <th>2013-07-28</th>\n",
       "      <td>6365.0</td>\n",
       "      <td>NaN</td>\n",
       "      <td>Yuma</td>\n",
       "      <td>REP</td>\n",
       "    </tr>\n",
       "    <tr>\n",
       "      <th>2013-08-28</th>\n",
       "      <td>6371.0</td>\n",
       "      <td>NaN</td>\n",
       "      <td>Yuma</td>\n",
       "      <td>REP</td>\n",
       "    </tr>\n",
       "    <tr>\n",
       "      <th>2013-09-28</th>\n",
       "      <td>6375.0</td>\n",
       "      <td>NaN</td>\n",
       "      <td>Yuma</td>\n",
       "      <td>REP</td>\n",
       "    </tr>\n",
       "    <tr>\n",
       "      <th>2013-10-28</th>\n",
       "      <td>6375.0</td>\n",
       "      <td>NaN</td>\n",
       "      <td>Yuma</td>\n",
       "      <td>REP</td>\n",
       "    </tr>\n",
       "    <tr>\n",
       "      <th>2013-11-28</th>\n",
       "      <td>6378.0</td>\n",
       "      <td>NaN</td>\n",
       "      <td>Yuma</td>\n",
       "      <td>REP</td>\n",
       "    </tr>\n",
       "    <tr>\n",
       "      <th>2013-12-28</th>\n",
       "      <td>6392.0</td>\n",
       "      <td>NaN</td>\n",
       "      <td>Yuma</td>\n",
       "      <td>REP</td>\n",
       "    </tr>\n",
       "    <tr>\n",
       "      <th>2014-01-28</th>\n",
       "      <td>6384.0</td>\n",
       "      <td>NaN</td>\n",
       "      <td>Yuma</td>\n",
       "      <td>REP</td>\n",
       "    </tr>\n",
       "    <tr>\n",
       "      <th>2014-02-28</th>\n",
       "      <td>6019.0</td>\n",
       "      <td>NaN</td>\n",
       "      <td>Yuma</td>\n",
       "      <td>REP</td>\n",
       "    </tr>\n",
       "    <tr>\n",
       "      <th>2014-03-28</th>\n",
       "      <td>6041.0</td>\n",
       "      <td>NaN</td>\n",
       "      <td>Yuma</td>\n",
       "      <td>REP</td>\n",
       "    </tr>\n",
       "    <tr>\n",
       "      <th>2014-04-28</th>\n",
       "      <td>6046.0</td>\n",
       "      <td>NaN</td>\n",
       "      <td>Yuma</td>\n",
       "      <td>REP</td>\n",
       "    </tr>\n",
       "    <tr>\n",
       "      <th>2014-05-28</th>\n",
       "      <td>6067.0</td>\n",
       "      <td>NaN</td>\n",
       "      <td>Yuma</td>\n",
       "      <td>REP</td>\n",
       "    </tr>\n",
       "    <tr>\n",
       "      <th>2014-06-28</th>\n",
       "      <td>6087.0</td>\n",
       "      <td>NaN</td>\n",
       "      <td>Yuma</td>\n",
       "      <td>REP</td>\n",
       "    </tr>\n",
       "    <tr>\n",
       "      <th>2014-07-28</th>\n",
       "      <td>6092.0</td>\n",
       "      <td>NaN</td>\n",
       "      <td>Yuma</td>\n",
       "      <td>REP</td>\n",
       "    </tr>\n",
       "    <tr>\n",
       "      <th>2014-08-28</th>\n",
       "      <td>6101.0</td>\n",
       "      <td>NaN</td>\n",
       "      <td>Yuma</td>\n",
       "      <td>REP</td>\n",
       "    </tr>\n",
       "    <tr>\n",
       "      <th>2014-09-28</th>\n",
       "      <td>6157.0</td>\n",
       "      <td>NaN</td>\n",
       "      <td>Yuma</td>\n",
       "      <td>REP</td>\n",
       "    </tr>\n",
       "    <tr>\n",
       "      <th>2014-10-28</th>\n",
       "      <td>6207.0</td>\n",
       "      <td>NaN</td>\n",
       "      <td>Yuma</td>\n",
       "      <td>REP</td>\n",
       "    </tr>\n",
       "    <tr>\n",
       "      <th>2014-11-28</th>\n",
       "      <td>6220.0</td>\n",
       "      <td>NaN</td>\n",
       "      <td>Yuma</td>\n",
       "      <td>REP</td>\n",
       "    </tr>\n",
       "    <tr>\n",
       "      <th>2014-12-28</th>\n",
       "      <td>6215.0</td>\n",
       "      <td>NaN</td>\n",
       "      <td>Yuma</td>\n",
       "      <td>REP</td>\n",
       "    </tr>\n",
       "    <tr>\n",
       "      <th>2015-01-28</th>\n",
       "      <td>5970.0</td>\n",
       "      <td>NaN</td>\n",
       "      <td>Yuma</td>\n",
       "      <td>REP</td>\n",
       "    </tr>\n",
       "    <tr>\n",
       "      <th>2015-02-28</th>\n",
       "      <td>5976.0</td>\n",
       "      <td>NaN</td>\n",
       "      <td>Yuma</td>\n",
       "      <td>REP</td>\n",
       "    </tr>\n",
       "    <tr>\n",
       "      <th>2015-03-28</th>\n",
       "      <td>5980.0</td>\n",
       "      <td>NaN</td>\n",
       "      <td>Yuma</td>\n",
       "      <td>REP</td>\n",
       "    </tr>\n",
       "    <tr>\n",
       "      <th>2015-04-28</th>\n",
       "      <td>5968.0</td>\n",
       "      <td>NaN</td>\n",
       "      <td>Yuma</td>\n",
       "      <td>REP</td>\n",
       "    </tr>\n",
       "    <tr>\n",
       "      <th>...</th>\n",
       "      <td>...</td>\n",
       "      <td>...</td>\n",
       "      <td>...</td>\n",
       "      <td>...</td>\n",
       "    </tr>\n",
       "    <tr>\n",
       "      <th>2016-10-28</th>\n",
       "      <td>19905.0</td>\n",
       "      <td>NaN</td>\n",
       "      <td>Elbert</td>\n",
       "      <td>REP</td>\n",
       "    </tr>\n",
       "    <tr>\n",
       "      <th>2016-11-28</th>\n",
       "      <td>20035.0</td>\n",
       "      <td>NaN</td>\n",
       "      <td>Elbert</td>\n",
       "      <td>REP</td>\n",
       "    </tr>\n",
       "    <tr>\n",
       "      <th>2016-12-28</th>\n",
       "      <td>19453.0</td>\n",
       "      <td>NaN</td>\n",
       "      <td>Elbert</td>\n",
       "      <td>REP</td>\n",
       "    </tr>\n",
       "    <tr>\n",
       "      <th>2017-01-28</th>\n",
       "      <td>19417.0</td>\n",
       "      <td>NaN</td>\n",
       "      <td>Elbert</td>\n",
       "      <td>REP</td>\n",
       "    </tr>\n",
       "    <tr>\n",
       "      <th>2017-02-28</th>\n",
       "      <td>19429.0</td>\n",
       "      <td>NaN</td>\n",
       "      <td>Elbert</td>\n",
       "      <td>REP</td>\n",
       "    </tr>\n",
       "    <tr>\n",
       "      <th>2017-03-28</th>\n",
       "      <td>19485.0</td>\n",
       "      <td>NaN</td>\n",
       "      <td>Elbert</td>\n",
       "      <td>REP</td>\n",
       "    </tr>\n",
       "    <tr>\n",
       "      <th>2017-04-28</th>\n",
       "      <td>19551.0</td>\n",
       "      <td>NaN</td>\n",
       "      <td>Elbert</td>\n",
       "      <td>REP</td>\n",
       "    </tr>\n",
       "    <tr>\n",
       "      <th>2017-05-28</th>\n",
       "      <td>19603.0</td>\n",
       "      <td>NaN</td>\n",
       "      <td>Elbert</td>\n",
       "      <td>REP</td>\n",
       "    </tr>\n",
       "    <tr>\n",
       "      <th>2017-06-28</th>\n",
       "      <td>19664.0</td>\n",
       "      <td>NaN</td>\n",
       "      <td>Elbert</td>\n",
       "      <td>REP</td>\n",
       "    </tr>\n",
       "    <tr>\n",
       "      <th>2017-07-28</th>\n",
       "      <td>19749.0</td>\n",
       "      <td>NaN</td>\n",
       "      <td>Elbert</td>\n",
       "      <td>REP</td>\n",
       "    </tr>\n",
       "    <tr>\n",
       "      <th>2017-08-28</th>\n",
       "      <td>19819.0</td>\n",
       "      <td>NaN</td>\n",
       "      <td>Elbert</td>\n",
       "      <td>REP</td>\n",
       "    </tr>\n",
       "    <tr>\n",
       "      <th>2017-09-28</th>\n",
       "      <td>19869.0</td>\n",
       "      <td>NaN</td>\n",
       "      <td>Elbert</td>\n",
       "      <td>REP</td>\n",
       "    </tr>\n",
       "    <tr>\n",
       "      <th>2017-10-28</th>\n",
       "      <td>19979.0</td>\n",
       "      <td>NaN</td>\n",
       "      <td>Elbert</td>\n",
       "      <td>REP</td>\n",
       "    </tr>\n",
       "    <tr>\n",
       "      <th>2017-11-28 00:00:00</th>\n",
       "      <td>NaN</td>\n",
       "      <td>19995.636920</td>\n",
       "      <td>Elbert</td>\n",
       "      <td>REP</td>\n",
       "    </tr>\n",
       "    <tr>\n",
       "      <th>2017-12-28 00:00:00</th>\n",
       "      <td>NaN</td>\n",
       "      <td>20048.205947</td>\n",
       "      <td>Elbert</td>\n",
       "      <td>REP</td>\n",
       "    </tr>\n",
       "    <tr>\n",
       "      <th>2018-01-28 00:00:00</th>\n",
       "      <td>NaN</td>\n",
       "      <td>20130.299238</td>\n",
       "      <td>Elbert</td>\n",
       "      <td>REP</td>\n",
       "    </tr>\n",
       "    <tr>\n",
       "      <th>2018-02-28 00:00:00</th>\n",
       "      <td>NaN</td>\n",
       "      <td>20200.476968</td>\n",
       "      <td>Elbert</td>\n",
       "      <td>REP</td>\n",
       "    </tr>\n",
       "    <tr>\n",
       "      <th>2018-03-28 00:00:00</th>\n",
       "      <td>NaN</td>\n",
       "      <td>20305.599197</td>\n",
       "      <td>Elbert</td>\n",
       "      <td>REP</td>\n",
       "    </tr>\n",
       "    <tr>\n",
       "      <th>2018-04-28 00:00:00</th>\n",
       "      <td>NaN</td>\n",
       "      <td>20375.527606</td>\n",
       "      <td>Elbert</td>\n",
       "      <td>REP</td>\n",
       "    </tr>\n",
       "    <tr>\n",
       "      <th>2018-05-28 00:00:00</th>\n",
       "      <td>NaN</td>\n",
       "      <td>20425.124088</td>\n",
       "      <td>Elbert</td>\n",
       "      <td>REP</td>\n",
       "    </tr>\n",
       "    <tr>\n",
       "      <th>2018-06-28 00:00:00</th>\n",
       "      <td>NaN</td>\n",
       "      <td>20539.813752</td>\n",
       "      <td>Elbert</td>\n",
       "      <td>REP</td>\n",
       "    </tr>\n",
       "    <tr>\n",
       "      <th>2018-07-28 00:00:00</th>\n",
       "      <td>NaN</td>\n",
       "      <td>20610.514466</td>\n",
       "      <td>Elbert</td>\n",
       "      <td>REP</td>\n",
       "    </tr>\n",
       "    <tr>\n",
       "      <th>2018-08-28 00:00:00</th>\n",
       "      <td>NaN</td>\n",
       "      <td>20688.501816</td>\n",
       "      <td>Elbert</td>\n",
       "      <td>REP</td>\n",
       "    </tr>\n",
       "    <tr>\n",
       "      <th>2018-09-28 00:00:00</th>\n",
       "      <td>NaN</td>\n",
       "      <td>20858.148009</td>\n",
       "      <td>Elbert</td>\n",
       "      <td>REP</td>\n",
       "    </tr>\n",
       "    <tr>\n",
       "      <th>2018-10-28 00:00:00</th>\n",
       "      <td>NaN</td>\n",
       "      <td>21265.142689</td>\n",
       "      <td>Elbert</td>\n",
       "      <td>REP</td>\n",
       "    </tr>\n",
       "    <tr>\n",
       "      <th>2018-11-28 00:00:00</th>\n",
       "      <td>NaN</td>\n",
       "      <td>21363.465381</td>\n",
       "      <td>Elbert</td>\n",
       "      <td>REP</td>\n",
       "    </tr>\n",
       "    <tr>\n",
       "      <th>2018-12-28 00:00:00</th>\n",
       "      <td>NaN</td>\n",
       "      <td>21109.183024</td>\n",
       "      <td>Elbert</td>\n",
       "      <td>REP</td>\n",
       "    </tr>\n",
       "    <tr>\n",
       "      <th>2019-01-28 00:00:00</th>\n",
       "      <td>NaN</td>\n",
       "      <td>20444.017657</td>\n",
       "      <td>Elbert</td>\n",
       "      <td>REP</td>\n",
       "    </tr>\n",
       "    <tr>\n",
       "      <th>2019-02-28 00:00:00</th>\n",
       "      <td>NaN</td>\n",
       "      <td>20472.664694</td>\n",
       "      <td>Elbert</td>\n",
       "      <td>REP</td>\n",
       "    </tr>\n",
       "    <tr>\n",
       "      <th>2019-03-28 00:00:00</th>\n",
       "      <td>NaN</td>\n",
       "      <td>20535.171454</td>\n",
       "      <td>Elbert</td>\n",
       "      <td>REP</td>\n",
       "    </tr>\n",
       "  </tbody>\n",
       "</table>\n",
       "<p>4928 rows × 4 columns</p>\n",
       "</div>"
      ],
      "text/plain": [
       "                     Grand_total      Forecast  County Label\n",
       "2012-11-28                6396.0           NaN    Yuma   REP\n",
       "2012-12-28                6327.0           NaN    Yuma   REP\n",
       "2013-01-28                6322.0           NaN    Yuma   REP\n",
       "2013-02-28                6331.0           NaN    Yuma   REP\n",
       "2013-03-28                6340.0           NaN    Yuma   REP\n",
       "2013-04-28                6348.0           NaN    Yuma   REP\n",
       "2013-05-28                6355.0           NaN    Yuma   REP\n",
       "2013-06-28                6366.0           NaN    Yuma   REP\n",
       "2013-07-28                6365.0           NaN    Yuma   REP\n",
       "2013-08-28                6371.0           NaN    Yuma   REP\n",
       "2013-09-28                6375.0           NaN    Yuma   REP\n",
       "2013-10-28                6375.0           NaN    Yuma   REP\n",
       "2013-11-28                6378.0           NaN    Yuma   REP\n",
       "2013-12-28                6392.0           NaN    Yuma   REP\n",
       "2014-01-28                6384.0           NaN    Yuma   REP\n",
       "2014-02-28                6019.0           NaN    Yuma   REP\n",
       "2014-03-28                6041.0           NaN    Yuma   REP\n",
       "2014-04-28                6046.0           NaN    Yuma   REP\n",
       "2014-05-28                6067.0           NaN    Yuma   REP\n",
       "2014-06-28                6087.0           NaN    Yuma   REP\n",
       "2014-07-28                6092.0           NaN    Yuma   REP\n",
       "2014-08-28                6101.0           NaN    Yuma   REP\n",
       "2014-09-28                6157.0           NaN    Yuma   REP\n",
       "2014-10-28                6207.0           NaN    Yuma   REP\n",
       "2014-11-28                6220.0           NaN    Yuma   REP\n",
       "2014-12-28                6215.0           NaN    Yuma   REP\n",
       "2015-01-28                5970.0           NaN    Yuma   REP\n",
       "2015-02-28                5976.0           NaN    Yuma   REP\n",
       "2015-03-28                5980.0           NaN    Yuma   REP\n",
       "2015-04-28                5968.0           NaN    Yuma   REP\n",
       "...                          ...           ...     ...   ...\n",
       "2016-10-28               19905.0           NaN  Elbert   REP\n",
       "2016-11-28               20035.0           NaN  Elbert   REP\n",
       "2016-12-28               19453.0           NaN  Elbert   REP\n",
       "2017-01-28               19417.0           NaN  Elbert   REP\n",
       "2017-02-28               19429.0           NaN  Elbert   REP\n",
       "2017-03-28               19485.0           NaN  Elbert   REP\n",
       "2017-04-28               19551.0           NaN  Elbert   REP\n",
       "2017-05-28               19603.0           NaN  Elbert   REP\n",
       "2017-06-28               19664.0           NaN  Elbert   REP\n",
       "2017-07-28               19749.0           NaN  Elbert   REP\n",
       "2017-08-28               19819.0           NaN  Elbert   REP\n",
       "2017-09-28               19869.0           NaN  Elbert   REP\n",
       "2017-10-28               19979.0           NaN  Elbert   REP\n",
       "2017-11-28 00:00:00          NaN  19995.636920  Elbert   REP\n",
       "2017-12-28 00:00:00          NaN  20048.205947  Elbert   REP\n",
       "2018-01-28 00:00:00          NaN  20130.299238  Elbert   REP\n",
       "2018-02-28 00:00:00          NaN  20200.476968  Elbert   REP\n",
       "2018-03-28 00:00:00          NaN  20305.599197  Elbert   REP\n",
       "2018-04-28 00:00:00          NaN  20375.527606  Elbert   REP\n",
       "2018-05-28 00:00:00          NaN  20425.124088  Elbert   REP\n",
       "2018-06-28 00:00:00          NaN  20539.813752  Elbert   REP\n",
       "2018-07-28 00:00:00          NaN  20610.514466  Elbert   REP\n",
       "2018-08-28 00:00:00          NaN  20688.501816  Elbert   REP\n",
       "2018-09-28 00:00:00          NaN  20858.148009  Elbert   REP\n",
       "2018-10-28 00:00:00          NaN  21265.142689  Elbert   REP\n",
       "2018-11-28 00:00:00          NaN  21363.465381  Elbert   REP\n",
       "2018-12-28 00:00:00          NaN  21109.183024  Elbert   REP\n",
       "2019-01-28 00:00:00          NaN  20444.017657  Elbert   REP\n",
       "2019-02-28 00:00:00          NaN  20472.664694  Elbert   REP\n",
       "2019-03-28 00:00:00          NaN  20535.171454  Elbert   REP\n",
       "\n",
       "[4928 rows x 4 columns]"
      ]
     },
     "execution_count": 268,
     "metadata": {},
     "output_type": "execute_result"
    }
   ],
   "source": [
    "county_total_forecasts"
   ]
  },
  {
   "cell_type": "code",
   "execution_count": null,
   "metadata": {
    "collapsed": true
   },
   "outputs": [],
   "source": []
  }
 ],
 "metadata": {
  "kernelspec": {
   "display_name": "Python 3",
   "language": "python",
   "name": "python3"
  },
  "language_info": {
   "codemirror_mode": {
    "name": "ipython",
    "version": 3
   },
   "file_extension": ".py",
   "mimetype": "text/x-python",
   "name": "python",
   "nbconvert_exporter": "python",
   "pygments_lexer": "ipython3",
   "version": "3.6.3"
  }
 },
 "nbformat": 4,
 "nbformat_minor": 2
}
