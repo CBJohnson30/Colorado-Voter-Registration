{
 "cells": [
  {
   "cell_type": "markdown",
   "metadata": {},
   "source": [
    "# Registration Type Time Series\n",
    "\n",
    "- In this notebook I will be creating a model that predicts that the number of registration type of registered voters for the State of Colorado and forecasting out roughly a year in time as well."
   ]
  },
  {
   "cell_type": "code",
   "execution_count": 1,
   "metadata": {},
   "outputs": [
    {
     "name": "stderr",
     "output_type": "stream",
     "text": [
      "/Users/chrisjohnson/anaconda3/lib/python3.6/site-packages/statsmodels/compat/pandas.py:56: FutureWarning: The pandas.core.datetools module is deprecated and will be removed in a future version. Please use the pandas.tseries module instead.\n",
      "  from pandas.core import datetools\n"
     ]
    }
   ],
   "source": [
    "import pandas as pd\n",
    "import numpy as np\n",
    "from datetime import datetime, timedelta\n",
    "from sklearn.linear_model import LinearRegression\n",
    "from sklearn.ensemble import GradientBoostingRegressor\n",
    "from sklearn.model_selection import cross_val_score, cross_val_predict\n",
    "import statsmodels.api as sm\n",
    "from dateutil.relativedelta import relativedelta\n",
    "import warnings\n",
    "import itertools\n",
    "import matplotlib.pyplot as plt\n",
    "%matplotlib inline"
   ]
  },
  {
   "cell_type": "code",
   "execution_count": 2,
   "metadata": {
    "collapsed": true
   },
   "outputs": [],
   "source": [
    "df = pd.read_csv(\"./Data/registration_totals_and_changes.csv\")"
   ]
  },
  {
   "cell_type": "code",
   "execution_count": 3,
   "metadata": {},
   "outputs": [
    {
     "data": {
      "text/plain": [
       "Index(['Date', 'County', 'Active Dem', 'Active Rep', 'Active Uaf',\n",
       "       'Total Active', 'Inactive Dem', 'Inactive Rep', 'Inactive Uaf',\n",
       "       'Total Inactive', 'Grand Total', 'Year', 'Month', 'Label',\n",
       "       'Active Dem_change', 'Active Rep_change', 'Active Uaf_change',\n",
       "       'Total Active_change', 'Inactive Dem_change', 'Inactive Rep_change',\n",
       "       'Inactive Uaf_change', 'Total Inactive_change', 'Grand Total_change'],\n",
       "      dtype='object')"
      ]
     },
     "execution_count": 3,
     "metadata": {},
     "output_type": "execute_result"
    }
   ],
   "source": [
    "df.columns"
   ]
  },
  {
   "cell_type": "code",
   "execution_count": 4,
   "metadata": {
    "collapsed": true
   },
   "outputs": [],
   "source": [
    "df = df[['Date', 'County', 'Year', 'Month', 'Label','Active Dem_change', 'Active Rep_change', 'Active Uaf_change']]"
   ]
  },
  {
   "cell_type": "code",
   "execution_count": 5,
   "metadata": {},
   "outputs": [
    {
     "data": {
      "text/html": [
       "<div>\n",
       "<style>\n",
       "    .dataframe thead tr:only-child th {\n",
       "        text-align: right;\n",
       "    }\n",
       "\n",
       "    .dataframe thead th {\n",
       "        text-align: left;\n",
       "    }\n",
       "\n",
       "    .dataframe tbody tr th {\n",
       "        vertical-align: top;\n",
       "    }\n",
       "</style>\n",
       "<table border=\"1\" class=\"dataframe\">\n",
       "  <thead>\n",
       "    <tr style=\"text-align: right;\">\n",
       "      <th></th>\n",
       "      <th>Date</th>\n",
       "      <th>County</th>\n",
       "      <th>Year</th>\n",
       "      <th>Month</th>\n",
       "      <th>Label</th>\n",
       "      <th>Active Dem_change</th>\n",
       "      <th>Active Rep_change</th>\n",
       "      <th>Active Uaf_change</th>\n",
       "    </tr>\n",
       "  </thead>\n",
       "  <tbody>\n",
       "    <tr>\n",
       "      <th>0</th>\n",
       "      <td>2012-11-28</td>\n",
       "      <td>Yuma</td>\n",
       "      <td>2012</td>\n",
       "      <td>nov</td>\n",
       "      <td>REP</td>\n",
       "      <td>NaN</td>\n",
       "      <td>NaN</td>\n",
       "      <td>NaN</td>\n",
       "    </tr>\n",
       "    <tr>\n",
       "      <th>1</th>\n",
       "      <td>2012-11-28</td>\n",
       "      <td>La Plata</td>\n",
       "      <td>2012</td>\n",
       "      <td>nov</td>\n",
       "      <td>DEM</td>\n",
       "      <td>NaN</td>\n",
       "      <td>NaN</td>\n",
       "      <td>NaN</td>\n",
       "    </tr>\n",
       "    <tr>\n",
       "      <th>2</th>\n",
       "      <td>2012-11-28</td>\n",
       "      <td>Lake</td>\n",
       "      <td>2012</td>\n",
       "      <td>nov</td>\n",
       "      <td>DEM</td>\n",
       "      <td>NaN</td>\n",
       "      <td>NaN</td>\n",
       "      <td>NaN</td>\n",
       "    </tr>\n",
       "    <tr>\n",
       "      <th>3</th>\n",
       "      <td>2012-11-28</td>\n",
       "      <td>Larimer</td>\n",
       "      <td>2012</td>\n",
       "      <td>nov</td>\n",
       "      <td>DEM</td>\n",
       "      <td>NaN</td>\n",
       "      <td>NaN</td>\n",
       "      <td>NaN</td>\n",
       "    </tr>\n",
       "    <tr>\n",
       "      <th>4</th>\n",
       "      <td>2012-11-28</td>\n",
       "      <td>Las Animas</td>\n",
       "      <td>2012</td>\n",
       "      <td>nov</td>\n",
       "      <td>Swing</td>\n",
       "      <td>NaN</td>\n",
       "      <td>NaN</td>\n",
       "      <td>NaN</td>\n",
       "    </tr>\n",
       "  </tbody>\n",
       "</table>\n",
       "</div>"
      ],
      "text/plain": [
       "         Date      County  Year Month  Label  Active Dem_change  \\\n",
       "0  2012-11-28        Yuma  2012   nov    REP                NaN   \n",
       "1  2012-11-28    La Plata  2012   nov    DEM                NaN   \n",
       "2  2012-11-28        Lake  2012   nov    DEM                NaN   \n",
       "3  2012-11-28     Larimer  2012   nov    DEM                NaN   \n",
       "4  2012-11-28  Las Animas  2012   nov  Swing                NaN   \n",
       "\n",
       "   Active Rep_change  Active Uaf_change  \n",
       "0                NaN                NaN  \n",
       "1                NaN                NaN  \n",
       "2                NaN                NaN  \n",
       "3                NaN                NaN  \n",
       "4                NaN                NaN  "
      ]
     },
     "execution_count": 5,
     "metadata": {},
     "output_type": "execute_result"
    }
   ],
   "source": [
    "df.head()"
   ]
  },
  {
   "cell_type": "code",
   "execution_count": 8,
   "metadata": {
    "collapsed": true
   },
   "outputs": [],
   "source": [
    "df[\"Odd_year\"] = df[\"Year\"] % 2\n",
    "df[\"Odd_year\"] = df[\"Odd_year\"].apply(str)\n",
    "df[\"Drop_month\"] = df[\"Odd_year\"] + df[\"Month\"]\n",
    "df[\"Drop_month\"] = df[\"Drop_month\"].map(lambda x: 1 if x == \"0dec\" or x == \"1jan\" or x == \"1feb\" else 0)\n",
    "df[\"Election_buzz\"] = df[\"Odd_year\"] + df[\"Month\"]\n",
    "df[\"Election_buzz\"] = df[\"Election_buzz\"].map(lambda x: 1 if x == \"0aug\" or x == \"0sept\" or x == \"0oct\" else 0)\n",
    "df[\"Before_prime\"] = df[\"Odd_year\"] + df[\"Month\"]\n",
    "df[\"Before_prime\"] = df[\"Before_prime\"].map(lambda x: 1 if x == \"0may\" or x == \"0june\" else 0)\n",
    "df[\"After_prime\"] = df[\"Odd_year\"] + df[\"Month\"]\n",
    "df[\"After_prime\"] = df[\"After_prime\"].map(lambda x: 1 if x == \"0july\" else 0)"
   ]
  },
  {
   "cell_type": "code",
   "execution_count": 14,
   "metadata": {},
   "outputs": [
    {
     "data": {
      "text/html": [
       "<div>\n",
       "<style>\n",
       "    .dataframe thead tr:only-child th {\n",
       "        text-align: right;\n",
       "    }\n",
       "\n",
       "    .dataframe thead th {\n",
       "        text-align: left;\n",
       "    }\n",
       "\n",
       "    .dataframe tbody tr th {\n",
       "        vertical-align: top;\n",
       "    }\n",
       "</style>\n",
       "<table border=\"1\" class=\"dataframe\">\n",
       "  <thead>\n",
       "    <tr style=\"text-align: right;\">\n",
       "      <th></th>\n",
       "      <th>Date</th>\n",
       "      <th>County</th>\n",
       "      <th>Year</th>\n",
       "      <th>Month</th>\n",
       "      <th>Label</th>\n",
       "      <th>Active Dem_change</th>\n",
       "      <th>Active Rep_change</th>\n",
       "      <th>Active Uaf_change</th>\n",
       "      <th>Odd_year</th>\n",
       "      <th>Drop_month</th>\n",
       "      <th>Election_buzz</th>\n",
       "      <th>Before_prime</th>\n",
       "      <th>After_prime</th>\n",
       "    </tr>\n",
       "  </thead>\n",
       "  <tbody>\n",
       "    <tr>\n",
       "      <th>3835</th>\n",
       "      <td>2017-10-28</td>\n",
       "      <td>Huerfano</td>\n",
       "      <td>2017</td>\n",
       "      <td>oct</td>\n",
       "      <td>DEM</td>\n",
       "      <td>-0.005023</td>\n",
       "      <td>0.003949</td>\n",
       "      <td>0.013879</td>\n",
       "      <td>1</td>\n",
       "      <td>0</td>\n",
       "      <td>0</td>\n",
       "      <td>0</td>\n",
       "      <td>0</td>\n",
       "    </tr>\n",
       "    <tr>\n",
       "      <th>3836</th>\n",
       "      <td>2017-10-28</td>\n",
       "      <td>Jackson</td>\n",
       "      <td>2017</td>\n",
       "      <td>oct</td>\n",
       "      <td>REP</td>\n",
       "      <td>-0.009091</td>\n",
       "      <td>-0.001429</td>\n",
       "      <td>0.024631</td>\n",
       "      <td>1</td>\n",
       "      <td>0</td>\n",
       "      <td>0</td>\n",
       "      <td>0</td>\n",
       "      <td>0</td>\n",
       "    </tr>\n",
       "    <tr>\n",
       "      <th>3837</th>\n",
       "      <td>2017-10-28</td>\n",
       "      <td>Jefferson</td>\n",
       "      <td>2017</td>\n",
       "      <td>oct</td>\n",
       "      <td>DEM</td>\n",
       "      <td>0.002604</td>\n",
       "      <td>0.000444</td>\n",
       "      <td>0.009299</td>\n",
       "      <td>1</td>\n",
       "      <td>0</td>\n",
       "      <td>0</td>\n",
       "      <td>0</td>\n",
       "      <td>0</td>\n",
       "    </tr>\n",
       "    <tr>\n",
       "      <th>3838</th>\n",
       "      <td>2017-10-28</td>\n",
       "      <td>Dolores</td>\n",
       "      <td>2017</td>\n",
       "      <td>oct</td>\n",
       "      <td>REP</td>\n",
       "      <td>-0.002994</td>\n",
       "      <td>0.000000</td>\n",
       "      <td>0.021127</td>\n",
       "      <td>1</td>\n",
       "      <td>0</td>\n",
       "      <td>0</td>\n",
       "      <td>0</td>\n",
       "      <td>0</td>\n",
       "    </tr>\n",
       "    <tr>\n",
       "      <th>3839</th>\n",
       "      <td>2017-10-28</td>\n",
       "      <td>Alamosa</td>\n",
       "      <td>2017</td>\n",
       "      <td>oct</td>\n",
       "      <td>DEM</td>\n",
       "      <td>0.000000</td>\n",
       "      <td>0.001943</td>\n",
       "      <td>0.012032</td>\n",
       "      <td>1</td>\n",
       "      <td>0</td>\n",
       "      <td>0</td>\n",
       "      <td>0</td>\n",
       "      <td>0</td>\n",
       "    </tr>\n",
       "  </tbody>\n",
       "</table>\n",
       "</div>"
      ],
      "text/plain": [
       "            Date     County  Year Month Label  Active Dem_change  \\\n",
       "3835  2017-10-28   Huerfano  2017   oct   DEM          -0.005023   \n",
       "3836  2017-10-28    Jackson  2017   oct   REP          -0.009091   \n",
       "3837  2017-10-28  Jefferson  2017   oct   DEM           0.002604   \n",
       "3838  2017-10-28    Dolores  2017   oct   REP          -0.002994   \n",
       "3839  2017-10-28    Alamosa  2017   oct   DEM           0.000000   \n",
       "\n",
       "      Active Rep_change  Active Uaf_change Odd_year  Drop_month  \\\n",
       "3835           0.003949           0.013879        1           0   \n",
       "3836          -0.001429           0.024631        1           0   \n",
       "3837           0.000444           0.009299        1           0   \n",
       "3838           0.000000           0.021127        1           0   \n",
       "3839           0.001943           0.012032        1           0   \n",
       "\n",
       "      Election_buzz  Before_prime  After_prime  \n",
       "3835              0             0            0  \n",
       "3836              0             0            0  \n",
       "3837              0             0            0  \n",
       "3838              0             0            0  \n",
       "3839              0             0            0  "
      ]
     },
     "execution_count": 14,
     "metadata": {},
     "output_type": "execute_result"
    }
   ],
   "source": [
    "df.tail()"
   ]
  },
  {
   "cell_type": "markdown",
   "metadata": {},
   "source": [
    "Creating a data frame to be able to predict on. "
   ]
  },
  {
   "cell_type": "code",
   "execution_count": 17,
   "metadata": {
    "collapsed": true
   },
   "outputs": [],
   "source": [
    "def get_time_series(df):\n",
    "    grand_total_ts = pd.DataFrame()\n",
    "    counties = df[\"County\"].unique()\n",
    "    for count in counties:\n",
    "        county = df[df[\"County\"] == count].copy()\n",
    "        county.set_index(\"Date\", inplace=True)\n",
    "        constants = county[[\"County\", \"Year\", \"Month\", \"Label\", \"Odd_year\", \"Drop_month\", \"Election_buzz\"]]\n",
    "        totals = pd.DataFrame(county[['Active Dem_change', 'Active Rep_change', 'Active Uaf_change']])\n",
    "        totals = totals.rolling(3).mean()\n",
    "        for i in range(1,4):\n",
    "            month = pd.DataFrame(totals[['Active Dem_change', 'Active Rep_change', 'Active Uaf_change']].shift(i))\n",
    "            month.columns = [col + \"- \" + str(i) for col in month.columns]\n",
    "            totals = pd.concat([month, totals], axis=1)\n",
    "        county_ts = pd.concat([constants, totals], axis=1)\n",
    "        grand_total_ts = pd.concat([grand_total_ts, county_ts])\n",
    "    \n",
    "    return grand_total_ts"
   ]
  },
  {
   "cell_type": "code",
   "execution_count": 19,
   "metadata": {
    "collapsed": true
   },
   "outputs": [],
   "source": [
    "reg_type_ts = get_time_series(df)"
   ]
  },
  {
   "cell_type": "code",
   "execution_count": 20,
   "metadata": {
    "collapsed": true
   },
   "outputs": [],
   "source": [
    "reg_type_ts.dropna(inplace=True)"
   ]
  },
  {
   "cell_type": "code",
   "execution_count": 22,
   "metadata": {},
   "outputs": [
    {
     "data": {
      "text/html": [
       "<div>\n",
       "<style>\n",
       "    .dataframe thead tr:only-child th {\n",
       "        text-align: right;\n",
       "    }\n",
       "\n",
       "    .dataframe thead th {\n",
       "        text-align: left;\n",
       "    }\n",
       "\n",
       "    .dataframe tbody tr th {\n",
       "        vertical-align: top;\n",
       "    }\n",
       "</style>\n",
       "<table border=\"1\" class=\"dataframe\">\n",
       "  <thead>\n",
       "    <tr style=\"text-align: right;\">\n",
       "      <th></th>\n",
       "      <th>County</th>\n",
       "      <th>Year</th>\n",
       "      <th>Month</th>\n",
       "      <th>Label</th>\n",
       "      <th>Odd_year</th>\n",
       "      <th>Drop_month</th>\n",
       "      <th>Election_buzz</th>\n",
       "      <th>Active Dem_change- 3</th>\n",
       "      <th>Active Rep_change- 3</th>\n",
       "      <th>Active Uaf_change- 3</th>\n",
       "      <th>Active Dem_change- 2</th>\n",
       "      <th>Active Rep_change- 2</th>\n",
       "      <th>Active Uaf_change- 2</th>\n",
       "      <th>Active Dem_change- 1</th>\n",
       "      <th>Active Rep_change- 1</th>\n",
       "      <th>Active Uaf_change- 1</th>\n",
       "      <th>Active Dem_change</th>\n",
       "      <th>Active Rep_change</th>\n",
       "      <th>Active Uaf_change</th>\n",
       "    </tr>\n",
       "    <tr>\n",
       "      <th>Date</th>\n",
       "      <th></th>\n",
       "      <th></th>\n",
       "      <th></th>\n",
       "      <th></th>\n",
       "      <th></th>\n",
       "      <th></th>\n",
       "      <th></th>\n",
       "      <th></th>\n",
       "      <th></th>\n",
       "      <th></th>\n",
       "      <th></th>\n",
       "      <th></th>\n",
       "      <th></th>\n",
       "      <th></th>\n",
       "      <th></th>\n",
       "      <th></th>\n",
       "      <th></th>\n",
       "      <th></th>\n",
       "      <th></th>\n",
       "    </tr>\n",
       "  </thead>\n",
       "  <tbody>\n",
       "    <tr>\n",
       "      <th>2013-05-28</th>\n",
       "      <td>Yuma</td>\n",
       "      <td>2013</td>\n",
       "      <td>may</td>\n",
       "      <td>REP</td>\n",
       "      <td>1</td>\n",
       "      <td>0</td>\n",
       "      <td>0</td>\n",
       "      <td>0.004977</td>\n",
       "      <td>0.003519</td>\n",
       "      <td>0.014481</td>\n",
       "      <td>0.002477</td>\n",
       "      <td>0.002875</td>\n",
       "      <td>0.007006</td>\n",
       "      <td>0.002057</td>\n",
       "      <td>0.002994</td>\n",
       "      <td>0.008257</td>\n",
       "      <td>0.002869</td>\n",
       "      <td>0.002489</td>\n",
       "      <td>0.008473</td>\n",
       "    </tr>\n",
       "    <tr>\n",
       "      <th>2013-06-28</th>\n",
       "      <td>Yuma</td>\n",
       "      <td>2013</td>\n",
       "      <td>june</td>\n",
       "      <td>REP</td>\n",
       "      <td>1</td>\n",
       "      <td>0</td>\n",
       "      <td>0</td>\n",
       "      <td>0.002477</td>\n",
       "      <td>0.002875</td>\n",
       "      <td>0.007006</td>\n",
       "      <td>0.002057</td>\n",
       "      <td>0.002994</td>\n",
       "      <td>0.008257</td>\n",
       "      <td>0.002869</td>\n",
       "      <td>0.002489</td>\n",
       "      <td>0.008473</td>\n",
       "      <td>0.003683</td>\n",
       "      <td>0.001984</td>\n",
       "      <td>0.007108</td>\n",
       "    </tr>\n",
       "    <tr>\n",
       "      <th>2013-07-28</th>\n",
       "      <td>Yuma</td>\n",
       "      <td>2013</td>\n",
       "      <td>july</td>\n",
       "      <td>REP</td>\n",
       "      <td>1</td>\n",
       "      <td>0</td>\n",
       "      <td>0</td>\n",
       "      <td>0.002057</td>\n",
       "      <td>0.002994</td>\n",
       "      <td>0.008257</td>\n",
       "      <td>0.002869</td>\n",
       "      <td>0.002489</td>\n",
       "      <td>0.008473</td>\n",
       "      <td>0.003683</td>\n",
       "      <td>0.001984</td>\n",
       "      <td>0.007108</td>\n",
       "      <td>0.038590</td>\n",
       "      <td>0.029151</td>\n",
       "      <td>0.079626</td>\n",
       "    </tr>\n",
       "    <tr>\n",
       "      <th>2013-08-28</th>\n",
       "      <td>Yuma</td>\n",
       "      <td>2013</td>\n",
       "      <td>aug</td>\n",
       "      <td>REP</td>\n",
       "      <td>1</td>\n",
       "      <td>0</td>\n",
       "      <td>0</td>\n",
       "      <td>0.002869</td>\n",
       "      <td>0.002489</td>\n",
       "      <td>0.008473</td>\n",
       "      <td>0.003683</td>\n",
       "      <td>0.001984</td>\n",
       "      <td>0.007108</td>\n",
       "      <td>0.038590</td>\n",
       "      <td>0.029151</td>\n",
       "      <td>0.079626</td>\n",
       "      <td>0.032876</td>\n",
       "      <td>0.026033</td>\n",
       "      <td>0.076830</td>\n",
       "    </tr>\n",
       "    <tr>\n",
       "      <th>2013-09-28</th>\n",
       "      <td>Yuma</td>\n",
       "      <td>2013</td>\n",
       "      <td>sept</td>\n",
       "      <td>REP</td>\n",
       "      <td>1</td>\n",
       "      <td>0</td>\n",
       "      <td>0</td>\n",
       "      <td>0.003683</td>\n",
       "      <td>0.001984</td>\n",
       "      <td>0.007108</td>\n",
       "      <td>0.038590</td>\n",
       "      <td>0.029151</td>\n",
       "      <td>0.079626</td>\n",
       "      <td>0.032876</td>\n",
       "      <td>0.026033</td>\n",
       "      <td>0.076830</td>\n",
       "      <td>0.033545</td>\n",
       "      <td>0.025051</td>\n",
       "      <td>0.076922</td>\n",
       "    </tr>\n",
       "  </tbody>\n",
       "</table>\n",
       "</div>"
      ],
      "text/plain": [
       "           County  Year Month Label Odd_year  Drop_month  Election_buzz  \\\n",
       "Date                                                                      \n",
       "2013-05-28   Yuma  2013   may   REP        1           0              0   \n",
       "2013-06-28   Yuma  2013  june   REP        1           0              0   \n",
       "2013-07-28   Yuma  2013  july   REP        1           0              0   \n",
       "2013-08-28   Yuma  2013   aug   REP        1           0              0   \n",
       "2013-09-28   Yuma  2013  sept   REP        1           0              0   \n",
       "\n",
       "            Active Dem_change- 3  Active Rep_change- 3  Active Uaf_change- 3  \\\n",
       "Date                                                                           \n",
       "2013-05-28              0.004977              0.003519              0.014481   \n",
       "2013-06-28              0.002477              0.002875              0.007006   \n",
       "2013-07-28              0.002057              0.002994              0.008257   \n",
       "2013-08-28              0.002869              0.002489              0.008473   \n",
       "2013-09-28              0.003683              0.001984              0.007108   \n",
       "\n",
       "            Active Dem_change- 2  Active Rep_change- 2  Active Uaf_change- 2  \\\n",
       "Date                                                                           \n",
       "2013-05-28              0.002477              0.002875              0.007006   \n",
       "2013-06-28              0.002057              0.002994              0.008257   \n",
       "2013-07-28              0.002869              0.002489              0.008473   \n",
       "2013-08-28              0.003683              0.001984              0.007108   \n",
       "2013-09-28              0.038590              0.029151              0.079626   \n",
       "\n",
       "            Active Dem_change- 1  Active Rep_change- 1  Active Uaf_change- 1  \\\n",
       "Date                                                                           \n",
       "2013-05-28              0.002057              0.002994              0.008257   \n",
       "2013-06-28              0.002869              0.002489              0.008473   \n",
       "2013-07-28              0.003683              0.001984              0.007108   \n",
       "2013-08-28              0.038590              0.029151              0.079626   \n",
       "2013-09-28              0.032876              0.026033              0.076830   \n",
       "\n",
       "            Active Dem_change  Active Rep_change  Active Uaf_change  \n",
       "Date                                                                 \n",
       "2013-05-28           0.002869           0.002489           0.008473  \n",
       "2013-06-28           0.003683           0.001984           0.007108  \n",
       "2013-07-28           0.038590           0.029151           0.079626  \n",
       "2013-08-28           0.032876           0.026033           0.076830  \n",
       "2013-09-28           0.033545           0.025051           0.076922  "
      ]
     },
     "execution_count": 22,
     "metadata": {},
     "output_type": "execute_result"
    }
   ],
   "source": [
    "reg_type_ts.head()"
   ]
  },
  {
   "cell_type": "code",
   "execution_count": 23,
   "metadata": {},
   "outputs": [
    {
     "data": {
      "text/plain": [
       "Index(['County', 'Year', 'Month', 'Label', 'Odd_year', 'Drop_month',\n",
       "       'Election_buzz', 'Active Dem_change- 3', 'Active Rep_change- 3',\n",
       "       'Active Uaf_change- 3', 'Active Dem_change- 2', 'Active Rep_change- 2',\n",
       "       'Active Uaf_change- 2', 'Active Dem_change- 1', 'Active Rep_change- 1',\n",
       "       'Active Uaf_change- 1', 'Active Dem_change', 'Active Rep_change',\n",
       "       'Active Uaf_change'],\n",
       "      dtype='object')"
      ]
     },
     "execution_count": 23,
     "metadata": {},
     "output_type": "execute_result"
    }
   ],
   "source": [
    "reg_type_ts.columns"
   ]
  },
  {
   "cell_type": "code",
   "execution_count": 24,
   "metadata": {
    "collapsed": true
   },
   "outputs": [],
   "source": [
    "X = reg_type_ts[['Odd_year', 'Drop_month','Election_buzz', 'Active Dem_change- 3', 'Active Rep_change- 3',\n",
    "       'Active Uaf_change- 3', 'Active Dem_change- 2', 'Active Rep_change- 2','Active Uaf_change- 2',\n",
    "       'Active Dem_change- 1', 'Active Rep_change- 1','Active Uaf_change- 1']]\n",
    "\n",
    "y = reg_type_ts[['Active Dem_change', 'Active Rep_change','Active Uaf_change']]"
   ]
  },
  {
   "cell_type": "code",
   "execution_count": 44,
   "metadata": {
    "collapsed": true
   },
   "outputs": [],
   "source": [
    "mor = MultiOutputRegressor(GradientBoostingRegressor(n_estimators=200), n_jobs=1)"
   ]
  },
  {
   "cell_type": "code",
   "execution_count": 45,
   "metadata": {},
   "outputs": [
    {
     "data": {
      "text/plain": [
       "array([0.67710136, 0.67542279, 0.68632218])"
      ]
     },
     "execution_count": 45,
     "metadata": {},
     "output_type": "execute_result"
    }
   ],
   "source": [
    "cross_val_score(mor, X, y)"
   ]
  },
  {
   "cell_type": "code",
   "execution_count": 47,
   "metadata": {
    "collapsed": true
   },
   "outputs": [],
   "source": [
    "pred = cross_val_predict(mor, X,y)"
   ]
  },
  {
   "cell_type": "code",
   "execution_count": 50,
   "metadata": {
    "collapsed": true
   },
   "outputs": [],
   "source": [
    "reg_type_ts_pred = pd.concat([reg_type_ts, pd.DataFrame(pred, columns=['Active Dem_change_pred', 'Active Rep_change_pred','Active Uaf_change_pred'], index=reg_type_ts.index)], axis=1)"
   ]
  },
  {
   "cell_type": "code",
   "execution_count": 52,
   "metadata": {
    "collapsed": true
   },
   "outputs": [],
   "source": [
    "#reg_type_ts_pred.to_csv(\"reg_type_ts_pred.csv\")"
   ]
  },
  {
   "cell_type": "code",
   "execution_count": null,
   "metadata": {
    "collapsed": true
   },
   "outputs": [],
   "source": []
  },
  {
   "cell_type": "code",
   "execution_count": null,
   "metadata": {
    "collapsed": true
   },
   "outputs": [],
   "source": []
  },
  {
   "cell_type": "markdown",
   "metadata": {},
   "source": [
    "# Forecasting"
   ]
  },
  {
   "cell_type": "markdown",
   "metadata": {},
   "source": [
    "I will be forecasting out 17 months. Most of my testing and experimenting was done in the Grand Total Time Series notebook. "
   ]
  },
  {
   "cell_type": "code",
   "execution_count": 4,
   "metadata": {
    "collapsed": true
   },
   "outputs": [],
   "source": [
    "warnings.filterwarnings(\"ignore\")"
   ]
  },
  {
   "cell_type": "code",
   "execution_count": 3,
   "metadata": {
    "collapsed": true
   },
   "outputs": [],
   "source": [
    "df_f = pd.read_csv(\"./Data/registration_totals_and_changes.csv\")"
   ]
  },
  {
   "cell_type": "code",
   "execution_count": 4,
   "metadata": {},
   "outputs": [
    {
     "data": {
      "text/plain": [
       "Index(['Date', 'County', 'Active Dem', 'Active Rep', 'Active Uaf',\n",
       "       'Total Active', 'Inactive Dem', 'Inactive Rep', 'Inactive Uaf',\n",
       "       'Total Inactive', 'Grand Total', 'Year', 'Month', 'Label',\n",
       "       'Active Dem_change', 'Active Rep_change', 'Active Uaf_change',\n",
       "       'Total Active_change', 'Inactive Dem_change', 'Inactive Rep_change',\n",
       "       'Inactive Uaf_change', 'Total Inactive_change', 'Grand Total_change'],\n",
       "      dtype='object')"
      ]
     },
     "execution_count": 4,
     "metadata": {},
     "output_type": "execute_result"
    }
   ],
   "source": [
    "df_f.columns"
   ]
  },
  {
   "cell_type": "code",
   "execution_count": 2,
   "metadata": {
    "collapsed": true
   },
   "outputs": [],
   "source": [
    "def get_reg_type_forecast(file_path): #\"./Data/registration_totals_and_changes.csv\"\n",
    "    df_f = pd.read_csv(file_path)\n",
    "    county_forecasts = pd.DataFrame()\n",
    "    \n",
    "    df_f = df_f[['Date', 'County', 'Year', 'Month', 'Label','Active Dem', 'Active Rep', 'Active Uaf']]\n",
    "    df_f.set_index(\"Date\", inplace=True)\n",
    "    df_f[\"Odd_year\"] = df_f[\"Year\"] % 2\n",
    "    df_f[\"Odd_year\"] = df_f[\"Odd_year\"].apply(str)\n",
    "    df_f[\"Drop_month\"] = df_f[\"Odd_year\"] + df_f[\"Month\"]\n",
    "    df_f[\"Drop_month\"] = df_f[\"Drop_month\"].map(lambda x: 1 if x == \"0dec\" or x == \"1jan\" or x == \"1feb\" else 0)\n",
    "    df_f[\"Election_buzz\"] = df_f[\"Odd_year\"] + df_f[\"Month\"]\n",
    "    df_f[\"Election_buzz\"] = df_f[\"Election_buzz\"].map(lambda x: 1 if x == \"0aug\" or x == \"0sept\" or x == \"0oct\" else 0)\n",
    "    df_f[\"Odd_year\"] = df_f[\"Odd_year\"].apply(int)\n",
    "    \n",
    "    \n",
    "    for count in df_f[\"County\"].unique():\n",
    "        county_fv_total = pd.DataFrame()\n",
    "        county = df_f[df_f[\"County\"] == count]\n",
    "        exog = county[[\"Odd_year\",\"Drop_month\", \"Election_buzz\"]]\n",
    "        exog_p = exog[\"2013-11-28\":\"2015-03-28\"]\n",
    "        for reg_type in ['Active Dem', 'Active Rep', 'Active Uaf']:\n",
    "            county_f = county[reg_type]\n",
    "#            print(count)\n",
    "            mod = sm.tsa.statespace.SARIMAX(county_f.values, exog=exog.values, order=(3, 1, 0), seasonal_order=(1, 1, 0, 12),\n",
    "                                            trend=\"t\", time_varying_regression=True, mle_regression=False, enforce_stationarity=False)\n",
    "            res = mod.fit()\n",
    "\n",
    "            start = datetime.strptime(\"2017-11-28\", \"%Y-%m-%d\")\n",
    "            date_list = [start + relativedelta(months=x) for x in range(0,17)]\n",
    "            future = pd.DataFrame(index=date_list)\n",
    "            future[reg_type +\" Forecast\"] = res.forecast(17,exog=exog_p)\n",
    "            county_fv = pd.concat([county_f, future])\n",
    "            county_fv.rename(columns={0:reg_type}, inplace=True)\n",
    "            county_fv_total = pd.concat([county_fv_total, county_fv], axis=1)\n",
    "\n",
    "        county_name = county[\"County\"].unique()\n",
    "        county_label = county[\"Label\"].unique()\n",
    "        county_fv_total[\"County\"] = county_name[0]\n",
    "        county_fv_total[\"Label\"] = county_label[0]\n",
    "        county_forecasts = pd.concat([county_forecasts, county_fv_total])\n",
    "         \n",
    "        \n",
    "    return county_forecasts\n"
   ]
  },
  {
   "cell_type": "code",
   "execution_count": 5,
   "metadata": {
    "collapsed": true
   },
   "outputs": [],
   "source": [
    "county_reg_type_forecast = get_reg_type_forecast(\"./Data/registration_totals_and_changes.csv\")"
   ]
  },
  {
   "cell_type": "code",
   "execution_count": 36,
   "metadata": {
    "collapsed": true
   },
   "outputs": [],
   "source": [
    "#county_reg_type_forecast.to_csv(\"county_reg_type_forecast.csv\")"
   ]
  },
  {
   "cell_type": "code",
   "execution_count": null,
   "metadata": {
    "collapsed": true
   },
   "outputs": [],
   "source": []
  }
 ],
 "metadata": {
  "kernelspec": {
   "display_name": "Python 3",
   "language": "python",
   "name": "python3"
  },
  "language_info": {
   "codemirror_mode": {
    "name": "ipython",
    "version": 3
   },
   "file_extension": ".py",
   "mimetype": "text/x-python",
   "name": "python",
   "nbconvert_exporter": "python",
   "pygments_lexer": "ipython3",
   "version": "3.6.3"
  }
 },
 "nbformat": 4,
 "nbformat_minor": 2
}
