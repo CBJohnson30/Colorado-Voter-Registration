{
 "cells": [
  {
   "cell_type": "markdown",
   "metadata": {},
   "source": [
    "# Elections Results at a County Level"
   ]
  },
  {
   "cell_type": "markdown",
   "metadata": {},
   "source": [
    "- This data is from another project that I used to tell if a county was historical Democratic or Republican. \n",
    "- The goal of this notebook was to tell who won each election at a county level. I am going to use this to classifily counties to be able to graph them and be able to compare different regerstration numbers across different voting results. "
   ]
  },
  {
   "cell_type": "code",
   "execution_count": 1,
   "metadata": {
    "collapsed": true
   },
   "outputs": [],
   "source": [
    "import pandas as pd"
   ]
  },
  {
   "cell_type": "code",
   "execution_count": 2,
   "metadata": {
    "collapsed": true
   },
   "outputs": [],
   "source": [
    "df = pd.read_csv(\"./Data/county_vote_history.csv\")"
   ]
  },
  {
   "cell_type": "code",
   "execution_count": 3,
   "metadata": {},
   "outputs": [
    {
     "data": {
      "text/html": [
       "<div>\n",
       "<style>\n",
       "    .dataframe thead tr:only-child th {\n",
       "        text-align: right;\n",
       "    }\n",
       "\n",
       "    .dataframe thead th {\n",
       "        text-align: left;\n",
       "    }\n",
       "\n",
       "    .dataframe tbody tr th {\n",
       "        vertical-align: top;\n",
       "    }\n",
       "</style>\n",
       "<table border=\"1\" class=\"dataframe\">\n",
       "  <thead>\n",
       "    <tr style=\"text-align: right;\">\n",
       "      <th></th>\n",
       "      <th>county</th>\n",
       "      <th>dem_gov_2014_%</th>\n",
       "      <th>rep_gov_2014_%</th>\n",
       "      <th>dem_house_2012_%</th>\n",
       "      <th>rep_house_2012_%</th>\n",
       "      <th>dem_house_2014_%</th>\n",
       "      <th>rep_house_2014_%</th>\n",
       "      <th>dem_house_2016_%</th>\n",
       "      <th>rep_house_2016_%</th>\n",
       "      <th>dem_pres_2012_%</th>\n",
       "      <th>rep_pres_2012_%</th>\n",
       "      <th>dem_pres_2016_%</th>\n",
       "      <th>rep_pres_2016_%</th>\n",
       "      <th>dem_senate_2014_%</th>\n",
       "      <th>rep_senate_2014_%</th>\n",
       "      <th>dem_senate_2016_%</th>\n",
       "      <th>rep_senate_2016_%</th>\n",
       "    </tr>\n",
       "  </thead>\n",
       "  <tbody>\n",
       "    <tr>\n",
       "      <th>0</th>\n",
       "      <td>Adams</td>\n",
       "      <td>0.501126</td>\n",
       "      <td>0.444168</td>\n",
       "      <td>0.526886</td>\n",
       "      <td>0.401861</td>\n",
       "      <td>0.511630</td>\n",
       "      <td>0.470264</td>\n",
       "      <td>0.514574</td>\n",
       "      <td>0.426280</td>\n",
       "      <td>0.571123</td>\n",
       "      <td>0.402724</td>\n",
       "      <td>0.498552</td>\n",
       "      <td>0.413482</td>\n",
       "      <td>0.476951</td>\n",
       "      <td>0.448761</td>\n",
       "      <td>0.526509</td>\n",
       "      <td>0.412360</td>\n",
       "    </tr>\n",
       "    <tr>\n",
       "      <th>1</th>\n",
       "      <td>Alamosa</td>\n",
       "      <td>0.509386</td>\n",
       "      <td>0.433133</td>\n",
       "      <td>0.486207</td>\n",
       "      <td>0.458622</td>\n",
       "      <td>0.425093</td>\n",
       "      <td>0.515413</td>\n",
       "      <td>0.495194</td>\n",
       "      <td>0.462774</td>\n",
       "      <td>0.567535</td>\n",
       "      <td>0.402829</td>\n",
       "      <td>0.459576</td>\n",
       "      <td>0.438968</td>\n",
       "      <td>0.474155</td>\n",
       "      <td>0.456665</td>\n",
       "      <td>0.529977</td>\n",
       "      <td>0.415089</td>\n",
       "    </tr>\n",
       "    <tr>\n",
       "      <th>2</th>\n",
       "      <td>Arapahoe</td>\n",
       "      <td>0.520078</td>\n",
       "      <td>0.439368</td>\n",
       "      <td>0.485311</td>\n",
       "      <td>0.450000</td>\n",
       "      <td>0.455291</td>\n",
       "      <td>0.490463</td>\n",
       "      <td>0.457761</td>\n",
       "      <td>0.478489</td>\n",
       "      <td>0.539042</td>\n",
       "      <td>0.439863</td>\n",
       "      <td>0.527590</td>\n",
       "      <td>0.386252</td>\n",
       "      <td>0.480201</td>\n",
       "      <td>0.464848</td>\n",
       "      <td>0.540040</td>\n",
       "      <td>0.409837</td>\n",
       "    </tr>\n",
       "    <tr>\n",
       "      <th>3</th>\n",
       "      <td>Archuleta</td>\n",
       "      <td>0.394250</td>\n",
       "      <td>0.555210</td>\n",
       "      <td>0.339208</td>\n",
       "      <td>0.595602</td>\n",
       "      <td>0.297932</td>\n",
       "      <td>0.634433</td>\n",
       "      <td>0.356941</td>\n",
       "      <td>0.597823</td>\n",
       "      <td>0.397832</td>\n",
       "      <td>0.574993</td>\n",
       "      <td>0.340646</td>\n",
       "      <td>0.581006</td>\n",
       "      <td>0.372272</td>\n",
       "      <td>0.569045</td>\n",
       "      <td>0.379206</td>\n",
       "      <td>0.561500</td>\n",
       "    </tr>\n",
       "    <tr>\n",
       "      <th>4</th>\n",
       "      <td>Baca</td>\n",
       "      <td>0.217578</td>\n",
       "      <td>0.725616</td>\n",
       "      <td>0.247859</td>\n",
       "      <td>0.698237</td>\n",
       "      <td>0.178631</td>\n",
       "      <td>0.754591</td>\n",
       "      <td>0.142857</td>\n",
       "      <td>0.815436</td>\n",
       "      <td>0.221747</td>\n",
       "      <td>0.740266</td>\n",
       "      <td>0.131444</td>\n",
       "      <td>0.814213</td>\n",
       "      <td>0.189887</td>\n",
       "      <td>0.739107</td>\n",
       "      <td>0.269878</td>\n",
       "      <td>0.687091</td>\n",
       "    </tr>\n",
       "  </tbody>\n",
       "</table>\n",
       "</div>"
      ],
      "text/plain": [
       "      county  dem_gov_2014_%  rep_gov_2014_%  dem_house_2012_%  \\\n",
       "0      Adams        0.501126        0.444168          0.526886   \n",
       "1    Alamosa        0.509386        0.433133          0.486207   \n",
       "2   Arapahoe        0.520078        0.439368          0.485311   \n",
       "3  Archuleta        0.394250        0.555210          0.339208   \n",
       "4       Baca        0.217578        0.725616          0.247859   \n",
       "\n",
       "   rep_house_2012_%  dem_house_2014_%  rep_house_2014_%  dem_house_2016_%  \\\n",
       "0          0.401861          0.511630          0.470264          0.514574   \n",
       "1          0.458622          0.425093          0.515413          0.495194   \n",
       "2          0.450000          0.455291          0.490463          0.457761   \n",
       "3          0.595602          0.297932          0.634433          0.356941   \n",
       "4          0.698237          0.178631          0.754591          0.142857   \n",
       "\n",
       "   rep_house_2016_%  dem_pres_2012_%  rep_pres_2012_%  dem_pres_2016_%  \\\n",
       "0          0.426280         0.571123         0.402724         0.498552   \n",
       "1          0.462774         0.567535         0.402829         0.459576   \n",
       "2          0.478489         0.539042         0.439863         0.527590   \n",
       "3          0.597823         0.397832         0.574993         0.340646   \n",
       "4          0.815436         0.221747         0.740266         0.131444   \n",
       "\n",
       "   rep_pres_2016_%  dem_senate_2014_%  rep_senate_2014_%  dem_senate_2016_%  \\\n",
       "0         0.413482           0.476951           0.448761           0.526509   \n",
       "1         0.438968           0.474155           0.456665           0.529977   \n",
       "2         0.386252           0.480201           0.464848           0.540040   \n",
       "3         0.581006           0.372272           0.569045           0.379206   \n",
       "4         0.814213           0.189887           0.739107           0.269878   \n",
       "\n",
       "   rep_senate_2016_%  \n",
       "0           0.412360  \n",
       "1           0.415089  \n",
       "2           0.409837  \n",
       "3           0.561500  \n",
       "4           0.687091  "
      ]
     },
     "execution_count": 3,
     "metadata": {},
     "output_type": "execute_result"
    }
   ],
   "source": [
    "df.head()"
   ]
  },
  {
   "cell_type": "markdown",
   "metadata": {},
   "source": [
    "Testing for loops for the functions below."
   ]
  },
  {
   "cell_type": "code",
   "execution_count": 4,
   "metadata": {
    "collapsed": true
   },
   "outputs": [],
   "source": [
    "gov_2014_c = []\n",
    "for i in range(len(df)):\n",
    "    if df[\"dem_gov_2014_%\"][i] > df[\"rep_gov_2014_%\"][i]:\n",
    "        gov_2014_c.append(\"DEM\")\n",
    "    elif df[\"rep_gov_2014_%\"][i] > df[\"dem_gov_2014_%\"][i]:\n",
    "        gov_2014_c.append(\"REP\")\n"
   ]
  },
  {
   "cell_type": "code",
   "execution_count": 5,
   "metadata": {
    "collapsed": true
   },
   "outputs": [],
   "source": [
    "df[\"gov_2014_county_res\"] = gov_2014_c"
   ]
  },
  {
   "cell_type": "code",
   "execution_count": 6,
   "metadata": {},
   "outputs": [
    {
     "name": "stdout",
     "output_type": "stream",
     "text": [
      "dem_gov_2014_% rep_gov_2014_%\n",
      "dem_house_2012_% rep_house_2012_%\n",
      "dem_house_2014_% rep_house_2014_%\n",
      "dem_house_2016_% rep_house_2016_%\n",
      "dem_pres_2012_% rep_pres_2012_%\n",
      "dem_pred_2016_% rep_pred_2016_%\n",
      "dem_senate_2014_% rep_senate_2014_%\n",
      "dem_senate_2016_% rep_senate_2016_%\n"
     ]
    }
   ],
   "source": [
    "elections = [\"gov_2014\", \"house_2012\", \"house_2014\", \"house_2016\", \"pres_2012\", \"pred_2016\", \"senate_2014\", \"senate_2016\"]\n",
    "for elec in elections:\n",
    "    dem = \"dem_\"+elec+\"_%\"\n",
    "    rep = \"rep_\"+elec+\"_%\"\n",
    "    print(dem, rep)"
   ]
  },
  {
   "cell_type": "markdown",
   "metadata": {},
   "source": [
    "Function to determine who won the election at a county level. "
   ]
  },
  {
   "cell_type": "code",
   "execution_count": 7,
   "metadata": {
    "collapsed": true
   },
   "outputs": [],
   "source": [
    "def county_results(file): #\"./Data/county_vote_history.csv\"\n",
    "    df = pd.read_csv(file)\n",
    "    county_results = pd.DataFrame()\n",
    "    county_results[\"County\"] = df[\"county\"]\n",
    "    elections = [\"gov_2014\", \"house_2012\", \"house_2014\", \"house_2016\", \"pres_2012\", \"pres_2016\",\n",
    "                 \"senate_2014\", \"senate_2016\"]\n",
    "    for elec in elections:\n",
    "        dem = \"dem_\"+elec+\"_%\"\n",
    "        rep = \"rep_\"+elec+\"_%\"\n",
    "        election_c = []\n",
    "        for i in range(len(df)):\n",
    "            if df[dem][i] > df[rep][i]:\n",
    "                election_c.append(\"DEM\")\n",
    "            elif df[rep][i] > df[dem][i]:\n",
    "                election_c.append(\"REP\")\n",
    "        county_results[elec+\"_county_results\"] = election_c\n",
    "    return county_results"
   ]
  },
  {
   "cell_type": "code",
   "execution_count": 8,
   "metadata": {
    "collapsed": true
   },
   "outputs": [],
   "source": [
    "county_res = county_results(\"./Data/county_vote_history.csv\")"
   ]
  },
  {
   "cell_type": "code",
   "execution_count": 9,
   "metadata": {},
   "outputs": [
    {
     "data": {
      "text/html": [
       "<div>\n",
       "<style>\n",
       "    .dataframe thead tr:only-child th {\n",
       "        text-align: right;\n",
       "    }\n",
       "\n",
       "    .dataframe thead th {\n",
       "        text-align: left;\n",
       "    }\n",
       "\n",
       "    .dataframe tbody tr th {\n",
       "        vertical-align: top;\n",
       "    }\n",
       "</style>\n",
       "<table border=\"1\" class=\"dataframe\">\n",
       "  <thead>\n",
       "    <tr style=\"text-align: right;\">\n",
       "      <th></th>\n",
       "      <th>County</th>\n",
       "      <th>gov_2014_county_results</th>\n",
       "      <th>house_2012_county_results</th>\n",
       "      <th>house_2014_county_results</th>\n",
       "      <th>house_2016_county_results</th>\n",
       "      <th>pres_2012_county_results</th>\n",
       "      <th>pres_2016_county_results</th>\n",
       "      <th>senate_2014_county_results</th>\n",
       "      <th>senate_2016_county_results</th>\n",
       "    </tr>\n",
       "  </thead>\n",
       "  <tbody>\n",
       "    <tr>\n",
       "      <th>0</th>\n",
       "      <td>Adams</td>\n",
       "      <td>DEM</td>\n",
       "      <td>DEM</td>\n",
       "      <td>DEM</td>\n",
       "      <td>DEM</td>\n",
       "      <td>DEM</td>\n",
       "      <td>DEM</td>\n",
       "      <td>DEM</td>\n",
       "      <td>DEM</td>\n",
       "    </tr>\n",
       "    <tr>\n",
       "      <th>1</th>\n",
       "      <td>Alamosa</td>\n",
       "      <td>DEM</td>\n",
       "      <td>DEM</td>\n",
       "      <td>REP</td>\n",
       "      <td>DEM</td>\n",
       "      <td>DEM</td>\n",
       "      <td>DEM</td>\n",
       "      <td>DEM</td>\n",
       "      <td>DEM</td>\n",
       "    </tr>\n",
       "    <tr>\n",
       "      <th>2</th>\n",
       "      <td>Arapahoe</td>\n",
       "      <td>DEM</td>\n",
       "      <td>DEM</td>\n",
       "      <td>REP</td>\n",
       "      <td>REP</td>\n",
       "      <td>DEM</td>\n",
       "      <td>DEM</td>\n",
       "      <td>DEM</td>\n",
       "      <td>DEM</td>\n",
       "    </tr>\n",
       "    <tr>\n",
       "      <th>3</th>\n",
       "      <td>Archuleta</td>\n",
       "      <td>REP</td>\n",
       "      <td>REP</td>\n",
       "      <td>REP</td>\n",
       "      <td>REP</td>\n",
       "      <td>REP</td>\n",
       "      <td>REP</td>\n",
       "      <td>REP</td>\n",
       "      <td>REP</td>\n",
       "    </tr>\n",
       "    <tr>\n",
       "      <th>4</th>\n",
       "      <td>Baca</td>\n",
       "      <td>REP</td>\n",
       "      <td>REP</td>\n",
       "      <td>REP</td>\n",
       "      <td>REP</td>\n",
       "      <td>REP</td>\n",
       "      <td>REP</td>\n",
       "      <td>REP</td>\n",
       "      <td>REP</td>\n",
       "    </tr>\n",
       "  </tbody>\n",
       "</table>\n",
       "</div>"
      ],
      "text/plain": [
       "      County gov_2014_county_results house_2012_county_results  \\\n",
       "0      Adams                     DEM                       DEM   \n",
       "1    Alamosa                     DEM                       DEM   \n",
       "2   Arapahoe                     DEM                       DEM   \n",
       "3  Archuleta                     REP                       REP   \n",
       "4       Baca                     REP                       REP   \n",
       "\n",
       "  house_2014_county_results house_2016_county_results  \\\n",
       "0                       DEM                       DEM   \n",
       "1                       REP                       DEM   \n",
       "2                       REP                       REP   \n",
       "3                       REP                       REP   \n",
       "4                       REP                       REP   \n",
       "\n",
       "  pres_2012_county_results pres_2016_county_results  \\\n",
       "0                      DEM                      DEM   \n",
       "1                      DEM                      DEM   \n",
       "2                      DEM                      DEM   \n",
       "3                      REP                      REP   \n",
       "4                      REP                      REP   \n",
       "\n",
       "  senate_2014_county_results senate_2016_county_results  \n",
       "0                        DEM                        DEM  \n",
       "1                        DEM                        DEM  \n",
       "2                        DEM                        DEM  \n",
       "3                        REP                        REP  \n",
       "4                        REP                        REP  "
      ]
     },
     "execution_count": 9,
     "metadata": {},
     "output_type": "execute_result"
    }
   ],
   "source": [
    "county_res.head()"
   ]
  },
  {
   "cell_type": "code",
   "execution_count": 10,
   "metadata": {},
   "outputs": [
    {
     "data": {
      "text/html": [
       "<div>\n",
       "<style>\n",
       "    .dataframe thead tr:only-child th {\n",
       "        text-align: right;\n",
       "    }\n",
       "\n",
       "    .dataframe thead th {\n",
       "        text-align: left;\n",
       "    }\n",
       "\n",
       "    .dataframe tbody tr th {\n",
       "        vertical-align: top;\n",
       "    }\n",
       "</style>\n",
       "<table border=\"1\" class=\"dataframe\">\n",
       "  <thead>\n",
       "    <tr style=\"text-align: right;\">\n",
       "      <th></th>\n",
       "      <th>County</th>\n",
       "      <th>gov_2014_county_results</th>\n",
       "      <th>house_2012_county_results</th>\n",
       "      <th>house_2014_county_results</th>\n",
       "      <th>house_2016_county_results</th>\n",
       "      <th>pres_2012_county_results</th>\n",
       "      <th>pres_2016_county_results</th>\n",
       "      <th>senate_2014_county_results</th>\n",
       "      <th>senate_2016_county_results</th>\n",
       "      <th>gov_2014_actual_results</th>\n",
       "      <th>pres_2012_actual_results</th>\n",
       "      <th>pres_2016_actual_results</th>\n",
       "      <th>senate_2014_actual_results</th>\n",
       "      <th>senate_2016_actual_results</th>\n",
       "    </tr>\n",
       "  </thead>\n",
       "  <tbody>\n",
       "    <tr>\n",
       "      <th>0</th>\n",
       "      <td>Adams</td>\n",
       "      <td>DEM</td>\n",
       "      <td>DEM</td>\n",
       "      <td>DEM</td>\n",
       "      <td>DEM</td>\n",
       "      <td>DEM</td>\n",
       "      <td>DEM</td>\n",
       "      <td>DEM</td>\n",
       "      <td>DEM</td>\n",
       "      <td>DEM</td>\n",
       "      <td>DEM</td>\n",
       "      <td>REP</td>\n",
       "      <td>REP</td>\n",
       "      <td>DEM</td>\n",
       "    </tr>\n",
       "    <tr>\n",
       "      <th>1</th>\n",
       "      <td>Alamosa</td>\n",
       "      <td>DEM</td>\n",
       "      <td>DEM</td>\n",
       "      <td>REP</td>\n",
       "      <td>DEM</td>\n",
       "      <td>DEM</td>\n",
       "      <td>DEM</td>\n",
       "      <td>DEM</td>\n",
       "      <td>DEM</td>\n",
       "      <td>DEM</td>\n",
       "      <td>DEM</td>\n",
       "      <td>REP</td>\n",
       "      <td>REP</td>\n",
       "      <td>DEM</td>\n",
       "    </tr>\n",
       "    <tr>\n",
       "      <th>2</th>\n",
       "      <td>Arapahoe</td>\n",
       "      <td>DEM</td>\n",
       "      <td>DEM</td>\n",
       "      <td>REP</td>\n",
       "      <td>REP</td>\n",
       "      <td>DEM</td>\n",
       "      <td>DEM</td>\n",
       "      <td>DEM</td>\n",
       "      <td>DEM</td>\n",
       "      <td>DEM</td>\n",
       "      <td>DEM</td>\n",
       "      <td>REP</td>\n",
       "      <td>REP</td>\n",
       "      <td>DEM</td>\n",
       "    </tr>\n",
       "    <tr>\n",
       "      <th>3</th>\n",
       "      <td>Archuleta</td>\n",
       "      <td>REP</td>\n",
       "      <td>REP</td>\n",
       "      <td>REP</td>\n",
       "      <td>REP</td>\n",
       "      <td>REP</td>\n",
       "      <td>REP</td>\n",
       "      <td>REP</td>\n",
       "      <td>REP</td>\n",
       "      <td>DEM</td>\n",
       "      <td>DEM</td>\n",
       "      <td>REP</td>\n",
       "      <td>REP</td>\n",
       "      <td>DEM</td>\n",
       "    </tr>\n",
       "    <tr>\n",
       "      <th>4</th>\n",
       "      <td>Baca</td>\n",
       "      <td>REP</td>\n",
       "      <td>REP</td>\n",
       "      <td>REP</td>\n",
       "      <td>REP</td>\n",
       "      <td>REP</td>\n",
       "      <td>REP</td>\n",
       "      <td>REP</td>\n",
       "      <td>REP</td>\n",
       "      <td>DEM</td>\n",
       "      <td>DEM</td>\n",
       "      <td>REP</td>\n",
       "      <td>REP</td>\n",
       "      <td>DEM</td>\n",
       "    </tr>\n",
       "  </tbody>\n",
       "</table>\n",
       "</div>"
      ],
      "text/plain": [
       "      County gov_2014_county_results house_2012_county_results  \\\n",
       "0      Adams                     DEM                       DEM   \n",
       "1    Alamosa                     DEM                       DEM   \n",
       "2   Arapahoe                     DEM                       DEM   \n",
       "3  Archuleta                     REP                       REP   \n",
       "4       Baca                     REP                       REP   \n",
       "\n",
       "  house_2014_county_results house_2016_county_results  \\\n",
       "0                       DEM                       DEM   \n",
       "1                       REP                       DEM   \n",
       "2                       REP                       REP   \n",
       "3                       REP                       REP   \n",
       "4                       REP                       REP   \n",
       "\n",
       "  pres_2012_county_results pres_2016_county_results  \\\n",
       "0                      DEM                      DEM   \n",
       "1                      DEM                      DEM   \n",
       "2                      DEM                      DEM   \n",
       "3                      REP                      REP   \n",
       "4                      REP                      REP   \n",
       "\n",
       "  senate_2014_county_results senate_2016_county_results  \\\n",
       "0                        DEM                        DEM   \n",
       "1                        DEM                        DEM   \n",
       "2                        DEM                        DEM   \n",
       "3                        REP                        REP   \n",
       "4                        REP                        REP   \n",
       "\n",
       "  gov_2014_actual_results pres_2012_actual_results pres_2016_actual_results  \\\n",
       "0                     DEM                      DEM                      REP   \n",
       "1                     DEM                      DEM                      REP   \n",
       "2                     DEM                      DEM                      REP   \n",
       "3                     DEM                      DEM                      REP   \n",
       "4                     DEM                      DEM                      REP   \n",
       "\n",
       "  senate_2014_actual_results senate_2016_actual_results  \n",
       "0                        REP                        DEM  \n",
       "1                        REP                        DEM  \n",
       "2                        REP                        DEM  \n",
       "3                        REP                        DEM  \n",
       "4                        REP                        DEM  "
      ]
     },
     "execution_count": 10,
     "metadata": {},
     "output_type": "execute_result"
    }
   ],
   "source": [
    "# adding actualy results of each election\n",
    "county_res[\"gov_2014_actual_results\"] = \"DEM\"\n",
    "county_res[\"pres_2012_actual_results\"] = \"DEM\"\n",
    "county_res[\"pres_2016_actual_results\"] = \"REP\"\n",
    "county_res[\"senate_2014_actual_results\"] = \"REP\"\n",
    "county_res[\"senate_2016_actual_results\"] = \"DEM\"\n",
    "county_res.head()"
   ]
  },
  {
   "cell_type": "code",
   "execution_count": 11,
   "metadata": {
    "collapsed": true
   },
   "outputs": [],
   "source": [
    "# adding a columns to tell if the county voted the same way as actual result. \n",
    "elections = [\"gov_2014\", \"pres_2012\", \"pres_2016\", \"senate_2014\", \"senate_2016\"] \n",
    "            # \"house_2012\", \"house_2014\", \"house_2016\",\n",
    "for elec in elections:\n",
    "    election_label = []\n",
    "    for i in range(len(county_res)):\n",
    "        if county_res[elec+\"_county_results\"][i] == county_res[elec+\"_actual_results\"][i]:\n",
    "            election_label.append(0)\n",
    "        elif county_res[elec+\"_county_results\"][i] != county_res[elec+\"_actual_results\"][i]:\n",
    "            election_label.append(1)\n",
    "    county_res[elec+\"_sim_label\"] = election_label\n",
    "            \n",
    "\n",
    "        "
   ]
  },
  {
   "cell_type": "code",
   "execution_count": 12,
   "metadata": {},
   "outputs": [
    {
     "data": {
      "text/plain": [
       "Index(['County', 'gov_2014_county_results', 'house_2012_county_results',\n",
       "       'house_2014_county_results', 'house_2016_county_results',\n",
       "       'pres_2012_county_results', 'pres_2016_county_results',\n",
       "       'senate_2014_county_results', 'senate_2016_county_results',\n",
       "       'gov_2014_actual_results', 'pres_2012_actual_results',\n",
       "       'pres_2016_actual_results', 'senate_2014_actual_results',\n",
       "       'senate_2016_actual_results', 'gov_2014_sim_label',\n",
       "       'pres_2012_sim_label', 'pres_2016_sim_label', 'senate_2014_sim_label',\n",
       "       'senate_2016_sim_label'],\n",
       "      dtype='object')"
      ]
     },
     "execution_count": 12,
     "metadata": {},
     "output_type": "execute_result"
    }
   ],
   "source": [
    "county_res.columns"
   ]
  },
  {
   "cell_type": "code",
   "execution_count": 13,
   "metadata": {
    "collapsed": true
   },
   "outputs": [],
   "source": [
    "# Only getting the columns I need for the next section. \n",
    "county_res = county_res[['County','gov_2014_sim_label','pres_2012_sim_label', 'pres_2016_sim_label', 'senate_2014_sim_label',\n",
    "       'senate_2016_sim_label']]"
   ]
  },
  {
   "cell_type": "code",
   "execution_count": 14,
   "metadata": {},
   "outputs": [
    {
     "data": {
      "text/html": [
       "<div>\n",
       "<style>\n",
       "    .dataframe thead tr:only-child th {\n",
       "        text-align: right;\n",
       "    }\n",
       "\n",
       "    .dataframe thead th {\n",
       "        text-align: left;\n",
       "    }\n",
       "\n",
       "    .dataframe tbody tr th {\n",
       "        vertical-align: top;\n",
       "    }\n",
       "</style>\n",
       "<table border=\"1\" class=\"dataframe\">\n",
       "  <thead>\n",
       "    <tr style=\"text-align: right;\">\n",
       "      <th></th>\n",
       "      <th>County</th>\n",
       "      <th>gov_2014_sim_label</th>\n",
       "      <th>pres_2012_sim_label</th>\n",
       "      <th>pres_2016_sim_label</th>\n",
       "      <th>senate_2014_sim_label</th>\n",
       "      <th>senate_2016_sim_label</th>\n",
       "    </tr>\n",
       "  </thead>\n",
       "  <tbody>\n",
       "    <tr>\n",
       "      <th>0</th>\n",
       "      <td>Adams</td>\n",
       "      <td>0</td>\n",
       "      <td>0</td>\n",
       "      <td>1</td>\n",
       "      <td>1</td>\n",
       "      <td>0</td>\n",
       "    </tr>\n",
       "    <tr>\n",
       "      <th>1</th>\n",
       "      <td>Alamosa</td>\n",
       "      <td>0</td>\n",
       "      <td>0</td>\n",
       "      <td>1</td>\n",
       "      <td>1</td>\n",
       "      <td>0</td>\n",
       "    </tr>\n",
       "    <tr>\n",
       "      <th>2</th>\n",
       "      <td>Arapahoe</td>\n",
       "      <td>0</td>\n",
       "      <td>0</td>\n",
       "      <td>1</td>\n",
       "      <td>1</td>\n",
       "      <td>0</td>\n",
       "    </tr>\n",
       "    <tr>\n",
       "      <th>3</th>\n",
       "      <td>Archuleta</td>\n",
       "      <td>1</td>\n",
       "      <td>1</td>\n",
       "      <td>0</td>\n",
       "      <td>0</td>\n",
       "      <td>1</td>\n",
       "    </tr>\n",
       "    <tr>\n",
       "      <th>4</th>\n",
       "      <td>Baca</td>\n",
       "      <td>1</td>\n",
       "      <td>1</td>\n",
       "      <td>0</td>\n",
       "      <td>0</td>\n",
       "      <td>1</td>\n",
       "    </tr>\n",
       "  </tbody>\n",
       "</table>\n",
       "</div>"
      ],
      "text/plain": [
       "      County  gov_2014_sim_label  pres_2012_sim_label  pres_2016_sim_label  \\\n",
       "0      Adams                   0                    0                    1   \n",
       "1    Alamosa                   0                    0                    1   \n",
       "2   Arapahoe                   0                    0                    1   \n",
       "3  Archuleta                   1                    1                    0   \n",
       "4       Baca                   1                    1                    0   \n",
       "\n",
       "   senate_2014_sim_label  senate_2016_sim_label  \n",
       "0                      1                      0  \n",
       "1                      1                      0  \n",
       "2                      1                      0  \n",
       "3                      0                      1  \n",
       "4                      0                      1  "
      ]
     },
     "execution_count": 14,
     "metadata": {},
     "output_type": "execute_result"
    }
   ],
   "source": [
    "county_res.head()"
   ]
  },
  {
   "cell_type": "markdown",
   "metadata": {
    "collapsed": true
   },
   "source": [
    "# Combining With Registration Changes\n",
    "- I will be combining this with registration changes CSV that I made in another notebook named Change from Previous Month."
   ]
  },
  {
   "cell_type": "code",
   "execution_count": 15,
   "metadata": {
    "collapsed": true
   },
   "outputs": [],
   "source": [
    "reg_totals = pd.read_csv(\"./Data/registration_totals_and_changes.csv\")"
   ]
  },
  {
   "cell_type": "code",
   "execution_count": 16,
   "metadata": {},
   "outputs": [
    {
     "data": {
      "text/plain": [
       "Index(['Date', 'County', 'Active Dem', 'Active Rep', 'Active Uaf',\n",
       "       'Total Active', 'Inactive Dem', 'Inactive Rep', 'Inactive Uaf',\n",
       "       'Total Inactive', 'Grand Total', 'Year', 'Month', 'Label',\n",
       "       'Active Dem_change', 'Active Rep_change', 'Active Uaf_change',\n",
       "       'Total Active_change', 'Inactive Dem_change', 'Inactive Rep_change',\n",
       "       'Inactive Uaf_change', 'Total Inactive_change', 'Grand Total_change'],\n",
       "      dtype='object')"
      ]
     },
     "execution_count": 16,
     "metadata": {},
     "output_type": "execute_result"
    }
   ],
   "source": [
    "reg_totals.columns"
   ]
  },
  {
   "cell_type": "code",
   "execution_count": 17,
   "metadata": {
    "collapsed": true
   },
   "outputs": [],
   "source": [
    "reg_totals = reg_totals[['Date', 'County','Year', 'Month', 'Label','Active Dem_change', 'Active Rep_change', 'Active Uaf_change',\n",
    "       'Total Active_change', 'Inactive Dem_change', 'Inactive Rep_change',\n",
    "       'Inactive Uaf_change', 'Total Inactive_change', 'Grand Total_change']]"
   ]
  },
  {
   "cell_type": "code",
   "execution_count": 18,
   "metadata": {
    "collapsed": true
   },
   "outputs": [],
   "source": [
    "county_totals = reg_totals[reg_totals[\"County\"] == \"Denver\"]"
   ]
  },
  {
   "cell_type": "code",
   "execution_count": 19,
   "metadata": {},
   "outputs": [
    {
     "data": {
      "text/html": [
       "<div>\n",
       "<style>\n",
       "    .dataframe thead tr:only-child th {\n",
       "        text-align: right;\n",
       "    }\n",
       "\n",
       "    .dataframe thead th {\n",
       "        text-align: left;\n",
       "    }\n",
       "\n",
       "    .dataframe tbody tr th {\n",
       "        vertical-align: top;\n",
       "    }\n",
       "</style>\n",
       "<table border=\"1\" class=\"dataframe\">\n",
       "  <thead>\n",
       "    <tr style=\"text-align: right;\">\n",
       "      <th></th>\n",
       "      <th>Date</th>\n",
       "      <th>County</th>\n",
       "      <th>Year</th>\n",
       "      <th>Month</th>\n",
       "      <th>Label</th>\n",
       "      <th>Active Dem_change</th>\n",
       "      <th>Active Rep_change</th>\n",
       "      <th>Active Uaf_change</th>\n",
       "      <th>Total Active_change</th>\n",
       "      <th>Inactive Dem_change</th>\n",
       "      <th>Inactive Rep_change</th>\n",
       "      <th>Inactive Uaf_change</th>\n",
       "      <th>Total Inactive_change</th>\n",
       "      <th>Grand Total_change</th>\n",
       "    </tr>\n",
       "  </thead>\n",
       "  <tbody>\n",
       "    <tr>\n",
       "      <th>62</th>\n",
       "      <td>2012-11-28</td>\n",
       "      <td>Denver</td>\n",
       "      <td>2012</td>\n",
       "      <td>nov</td>\n",
       "      <td>DEM</td>\n",
       "      <td>NaN</td>\n",
       "      <td>NaN</td>\n",
       "      <td>NaN</td>\n",
       "      <td>NaN</td>\n",
       "      <td>NaN</td>\n",
       "      <td>NaN</td>\n",
       "      <td>NaN</td>\n",
       "      <td>NaN</td>\n",
       "      <td>NaN</td>\n",
       "    </tr>\n",
       "    <tr>\n",
       "      <th>126</th>\n",
       "      <td>2012-12-28</td>\n",
       "      <td>Denver</td>\n",
       "      <td>2012</td>\n",
       "      <td>dec</td>\n",
       "      <td>DEM</td>\n",
       "      <td>-0.046399</td>\n",
       "      <td>-0.046658</td>\n",
       "      <td>-0.091390</td>\n",
       "      <td>-0.061503</td>\n",
       "      <td>0.128224</td>\n",
       "      <td>0.101981</td>\n",
       "      <td>0.169401</td>\n",
       "      <td>0.141628</td>\n",
       "      <td>0.000415</td>\n",
       "    </tr>\n",
       "    <tr>\n",
       "      <th>190</th>\n",
       "      <td>2013-01-28</td>\n",
       "      <td>Denver</td>\n",
       "      <td>2013</td>\n",
       "      <td>jan</td>\n",
       "      <td>DEM</td>\n",
       "      <td>0.005689</td>\n",
       "      <td>0.007248</td>\n",
       "      <td>0.013352</td>\n",
       "      <td>0.008430</td>\n",
       "      <td>-0.254047</td>\n",
       "      <td>-0.198090</td>\n",
       "      <td>-0.181194</td>\n",
       "      <td>-0.212957</td>\n",
       "      <td>-0.068577</td>\n",
       "    </tr>\n",
       "    <tr>\n",
       "      <th>202</th>\n",
       "      <td>2013-02-28</td>\n",
       "      <td>Denver</td>\n",
       "      <td>2013</td>\n",
       "      <td>feb</td>\n",
       "      <td>DEM</td>\n",
       "      <td>0.002804</td>\n",
       "      <td>0.003038</td>\n",
       "      <td>0.007734</td>\n",
       "      <td>0.004448</td>\n",
       "      <td>-0.009765</td>\n",
       "      <td>-0.011675</td>\n",
       "      <td>-0.009485</td>\n",
       "      <td>-0.009947</td>\n",
       "      <td>0.000217</td>\n",
       "    </tr>\n",
       "    <tr>\n",
       "      <th>287</th>\n",
       "      <td>2013-03-28</td>\n",
       "      <td>Denver</td>\n",
       "      <td>2013</td>\n",
       "      <td>mar</td>\n",
       "      <td>DEM</td>\n",
       "      <td>0.001542</td>\n",
       "      <td>0.002423</td>\n",
       "      <td>0.006509</td>\n",
       "      <td>0.003310</td>\n",
       "      <td>-0.008533</td>\n",
       "      <td>-0.006469</td>\n",
       "      <td>-0.006362</td>\n",
       "      <td>-0.007200</td>\n",
       "      <td>0.000252</td>\n",
       "    </tr>\n",
       "  </tbody>\n",
       "</table>\n",
       "</div>"
      ],
      "text/plain": [
       "           Date  County  Year Month Label  Active Dem_change  \\\n",
       "62   2012-11-28  Denver  2012   nov   DEM                NaN   \n",
       "126  2012-12-28  Denver  2012   dec   DEM          -0.046399   \n",
       "190  2013-01-28  Denver  2013   jan   DEM           0.005689   \n",
       "202  2013-02-28  Denver  2013   feb   DEM           0.002804   \n",
       "287  2013-03-28  Denver  2013   mar   DEM           0.001542   \n",
       "\n",
       "     Active Rep_change  Active Uaf_change  Total Active_change  \\\n",
       "62                 NaN                NaN                  NaN   \n",
       "126          -0.046658          -0.091390            -0.061503   \n",
       "190           0.007248           0.013352             0.008430   \n",
       "202           0.003038           0.007734             0.004448   \n",
       "287           0.002423           0.006509             0.003310   \n",
       "\n",
       "     Inactive Dem_change  Inactive Rep_change  Inactive Uaf_change  \\\n",
       "62                   NaN                  NaN                  NaN   \n",
       "126             0.128224             0.101981             0.169401   \n",
       "190            -0.254047            -0.198090            -0.181194   \n",
       "202            -0.009765            -0.011675            -0.009485   \n",
       "287            -0.008533            -0.006469            -0.006362   \n",
       "\n",
       "     Total Inactive_change  Grand Total_change  \n",
       "62                     NaN                 NaN  \n",
       "126               0.141628            0.000415  \n",
       "190              -0.212957           -0.068577  \n",
       "202              -0.009947            0.000217  \n",
       "287              -0.007200            0.000252  "
      ]
     },
     "execution_count": 19,
     "metadata": {},
     "output_type": "execute_result"
    }
   ],
   "source": [
    "county_totals.head()"
   ]
  },
  {
   "cell_type": "code",
   "execution_count": 20,
   "metadata": {
    "collapsed": true
   },
   "outputs": [],
   "source": [
    "year_2012_b = county_totals[county_totals[\"Year\"] == 2012]"
   ]
  },
  {
   "cell_type": "code",
   "execution_count": 21,
   "metadata": {
    "collapsed": true
   },
   "outputs": [],
   "source": [
    "year_2012 = county_totals[county_totals[\"Year\"] == 2013]\n",
    "year_2012_e = year_2012[(year_2012[\"Month\"] != \"nov\") & (year_2012[\"Month\"] != \"dec\")]"
   ]
  },
  {
   "cell_type": "code",
   "execution_count": 22,
   "metadata": {},
   "outputs": [
    {
     "data": {
      "text/html": [
       "<div>\n",
       "<style>\n",
       "    .dataframe thead tr:only-child th {\n",
       "        text-align: right;\n",
       "    }\n",
       "\n",
       "    .dataframe thead th {\n",
       "        text-align: left;\n",
       "    }\n",
       "\n",
       "    .dataframe tbody tr th {\n",
       "        vertical-align: top;\n",
       "    }\n",
       "</style>\n",
       "<table border=\"1\" class=\"dataframe\">\n",
       "  <thead>\n",
       "    <tr style=\"text-align: right;\">\n",
       "      <th></th>\n",
       "      <th>Date</th>\n",
       "      <th>County</th>\n",
       "      <th>Year</th>\n",
       "      <th>Month</th>\n",
       "      <th>Label</th>\n",
       "      <th>Active Dem_change</th>\n",
       "      <th>Active Rep_change</th>\n",
       "      <th>Active Uaf_change</th>\n",
       "      <th>Total Active_change</th>\n",
       "      <th>Inactive Dem_change</th>\n",
       "      <th>Inactive Rep_change</th>\n",
       "      <th>Inactive Uaf_change</th>\n",
       "      <th>Total Inactive_change</th>\n",
       "      <th>Grand Total_change</th>\n",
       "    </tr>\n",
       "  </thead>\n",
       "  <tbody>\n",
       "    <tr>\n",
       "      <th>62</th>\n",
       "      <td>2012-11-28</td>\n",
       "      <td>Denver</td>\n",
       "      <td>2012</td>\n",
       "      <td>nov</td>\n",
       "      <td>DEM</td>\n",
       "      <td>NaN</td>\n",
       "      <td>NaN</td>\n",
       "      <td>NaN</td>\n",
       "      <td>NaN</td>\n",
       "      <td>NaN</td>\n",
       "      <td>NaN</td>\n",
       "      <td>NaN</td>\n",
       "      <td>NaN</td>\n",
       "      <td>NaN</td>\n",
       "    </tr>\n",
       "    <tr>\n",
       "      <th>126</th>\n",
       "      <td>2012-12-28</td>\n",
       "      <td>Denver</td>\n",
       "      <td>2012</td>\n",
       "      <td>dec</td>\n",
       "      <td>DEM</td>\n",
       "      <td>-0.046399</td>\n",
       "      <td>-0.046658</td>\n",
       "      <td>-0.091390</td>\n",
       "      <td>-0.061503</td>\n",
       "      <td>0.128224</td>\n",
       "      <td>0.101981</td>\n",
       "      <td>0.169401</td>\n",
       "      <td>0.141628</td>\n",
       "      <td>0.000415</td>\n",
       "    </tr>\n",
       "    <tr>\n",
       "      <th>190</th>\n",
       "      <td>2013-01-28</td>\n",
       "      <td>Denver</td>\n",
       "      <td>2013</td>\n",
       "      <td>jan</td>\n",
       "      <td>DEM</td>\n",
       "      <td>0.005689</td>\n",
       "      <td>0.007248</td>\n",
       "      <td>0.013352</td>\n",
       "      <td>0.008430</td>\n",
       "      <td>-0.254047</td>\n",
       "      <td>-0.198090</td>\n",
       "      <td>-0.181194</td>\n",
       "      <td>-0.212957</td>\n",
       "      <td>-0.068577</td>\n",
       "    </tr>\n",
       "    <tr>\n",
       "      <th>202</th>\n",
       "      <td>2013-02-28</td>\n",
       "      <td>Denver</td>\n",
       "      <td>2013</td>\n",
       "      <td>feb</td>\n",
       "      <td>DEM</td>\n",
       "      <td>0.002804</td>\n",
       "      <td>0.003038</td>\n",
       "      <td>0.007734</td>\n",
       "      <td>0.004448</td>\n",
       "      <td>-0.009765</td>\n",
       "      <td>-0.011675</td>\n",
       "      <td>-0.009485</td>\n",
       "      <td>-0.009947</td>\n",
       "      <td>0.000217</td>\n",
       "    </tr>\n",
       "    <tr>\n",
       "      <th>287</th>\n",
       "      <td>2013-03-28</td>\n",
       "      <td>Denver</td>\n",
       "      <td>2013</td>\n",
       "      <td>mar</td>\n",
       "      <td>DEM</td>\n",
       "      <td>0.001542</td>\n",
       "      <td>0.002423</td>\n",
       "      <td>0.006509</td>\n",
       "      <td>0.003310</td>\n",
       "      <td>-0.008533</td>\n",
       "      <td>-0.006469</td>\n",
       "      <td>-0.006362</td>\n",
       "      <td>-0.007200</td>\n",
       "      <td>0.000252</td>\n",
       "    </tr>\n",
       "    <tr>\n",
       "      <th>368</th>\n",
       "      <td>2013-04-28</td>\n",
       "      <td>Denver</td>\n",
       "      <td>2013</td>\n",
       "      <td>apr</td>\n",
       "      <td>DEM</td>\n",
       "      <td>0.002245</td>\n",
       "      <td>0.002776</td>\n",
       "      <td>0.007322</td>\n",
       "      <td>0.003997</td>\n",
       "      <td>-0.004811</td>\n",
       "      <td>-0.004341</td>\n",
       "      <td>-0.004785</td>\n",
       "      <td>-0.004723</td>\n",
       "      <td>0.001479</td>\n",
       "    </tr>\n",
       "    <tr>\n",
       "      <th>397</th>\n",
       "      <td>2013-05-28</td>\n",
       "      <td>Denver</td>\n",
       "      <td>2013</td>\n",
       "      <td>may</td>\n",
       "      <td>DEM</td>\n",
       "      <td>0.001824</td>\n",
       "      <td>0.002655</td>\n",
       "      <td>0.007372</td>\n",
       "      <td>0.003786</td>\n",
       "      <td>-0.004650</td>\n",
       "      <td>-0.003696</td>\n",
       "      <td>-0.003987</td>\n",
       "      <td>-0.004190</td>\n",
       "      <td>0.001497</td>\n",
       "    </tr>\n",
       "    <tr>\n",
       "      <th>464</th>\n",
       "      <td>2013-06-28</td>\n",
       "      <td>Denver</td>\n",
       "      <td>2013</td>\n",
       "      <td>june</td>\n",
       "      <td>DEM</td>\n",
       "      <td>0.003263</td>\n",
       "      <td>0.002686</td>\n",
       "      <td>0.008956</td>\n",
       "      <td>0.005047</td>\n",
       "      <td>-0.003996</td>\n",
       "      <td>-0.002806</td>\n",
       "      <td>-0.003465</td>\n",
       "      <td>-0.003558</td>\n",
       "      <td>0.002591</td>\n",
       "    </tr>\n",
       "    <tr>\n",
       "      <th>527</th>\n",
       "      <td>2013-07-28</td>\n",
       "      <td>Denver</td>\n",
       "      <td>2013</td>\n",
       "      <td>july</td>\n",
       "      <td>DEM</td>\n",
       "      <td>0.083315</td>\n",
       "      <td>0.080210</td>\n",
       "      <td>0.157184</td>\n",
       "      <td>0.107281</td>\n",
       "      <td>-0.278578</td>\n",
       "      <td>-0.202900</td>\n",
       "      <td>-0.275314</td>\n",
       "      <td>-0.264760</td>\n",
       "      <td>0.001770</td>\n",
       "    </tr>\n",
       "    <tr>\n",
       "      <th>586</th>\n",
       "      <td>2013-08-28</td>\n",
       "      <td>Denver</td>\n",
       "      <td>2013</td>\n",
       "      <td>aug</td>\n",
       "      <td>DEM</td>\n",
       "      <td>-0.000686</td>\n",
       "      <td>-0.002133</td>\n",
       "      <td>0.004489</td>\n",
       "      <td>0.000874</td>\n",
       "      <td>0.012891</td>\n",
       "      <td>0.015438</td>\n",
       "      <td>0.010504</td>\n",
       "      <td>0.012258</td>\n",
       "      <td>0.003244</td>\n",
       "    </tr>\n",
       "    <tr>\n",
       "      <th>655</th>\n",
       "      <td>2013-09-28</td>\n",
       "      <td>Denver</td>\n",
       "      <td>2013</td>\n",
       "      <td>sept</td>\n",
       "      <td>DEM</td>\n",
       "      <td>0.004467</td>\n",
       "      <td>0.000921</td>\n",
       "      <td>0.013206</td>\n",
       "      <td>0.006938</td>\n",
       "      <td>-0.043473</td>\n",
       "      <td>-0.030760</td>\n",
       "      <td>-0.039115</td>\n",
       "      <td>-0.039251</td>\n",
       "      <td>-0.002762</td>\n",
       "    </tr>\n",
       "    <tr>\n",
       "      <th>737</th>\n",
       "      <td>2013-10-28</td>\n",
       "      <td>Denver</td>\n",
       "      <td>2013</td>\n",
       "      <td>oct</td>\n",
       "      <td>DEM</td>\n",
       "      <td>-0.003400</td>\n",
       "      <td>-0.006146</td>\n",
       "      <td>0.001213</td>\n",
       "      <td>-0.002222</td>\n",
       "      <td>0.002944</td>\n",
       "      <td>-0.001459</td>\n",
       "      <td>0.002159</td>\n",
       "      <td>0.001802</td>\n",
       "      <td>-0.001408</td>\n",
       "    </tr>\n",
       "  </tbody>\n",
       "</table>\n",
       "</div>"
      ],
      "text/plain": [
       "           Date  County  Year Month Label  Active Dem_change  \\\n",
       "62   2012-11-28  Denver  2012   nov   DEM                NaN   \n",
       "126  2012-12-28  Denver  2012   dec   DEM          -0.046399   \n",
       "190  2013-01-28  Denver  2013   jan   DEM           0.005689   \n",
       "202  2013-02-28  Denver  2013   feb   DEM           0.002804   \n",
       "287  2013-03-28  Denver  2013   mar   DEM           0.001542   \n",
       "368  2013-04-28  Denver  2013   apr   DEM           0.002245   \n",
       "397  2013-05-28  Denver  2013   may   DEM           0.001824   \n",
       "464  2013-06-28  Denver  2013  june   DEM           0.003263   \n",
       "527  2013-07-28  Denver  2013  july   DEM           0.083315   \n",
       "586  2013-08-28  Denver  2013   aug   DEM          -0.000686   \n",
       "655  2013-09-28  Denver  2013  sept   DEM           0.004467   \n",
       "737  2013-10-28  Denver  2013   oct   DEM          -0.003400   \n",
       "\n",
       "     Active Rep_change  Active Uaf_change  Total Active_change  \\\n",
       "62                 NaN                NaN                  NaN   \n",
       "126          -0.046658          -0.091390            -0.061503   \n",
       "190           0.007248           0.013352             0.008430   \n",
       "202           0.003038           0.007734             0.004448   \n",
       "287           0.002423           0.006509             0.003310   \n",
       "368           0.002776           0.007322             0.003997   \n",
       "397           0.002655           0.007372             0.003786   \n",
       "464           0.002686           0.008956             0.005047   \n",
       "527           0.080210           0.157184             0.107281   \n",
       "586          -0.002133           0.004489             0.000874   \n",
       "655           0.000921           0.013206             0.006938   \n",
       "737          -0.006146           0.001213            -0.002222   \n",
       "\n",
       "     Inactive Dem_change  Inactive Rep_change  Inactive Uaf_change  \\\n",
       "62                   NaN                  NaN                  NaN   \n",
       "126             0.128224             0.101981             0.169401   \n",
       "190            -0.254047            -0.198090            -0.181194   \n",
       "202            -0.009765            -0.011675            -0.009485   \n",
       "287            -0.008533            -0.006469            -0.006362   \n",
       "368            -0.004811            -0.004341            -0.004785   \n",
       "397            -0.004650            -0.003696            -0.003987   \n",
       "464            -0.003996            -0.002806            -0.003465   \n",
       "527            -0.278578            -0.202900            -0.275314   \n",
       "586             0.012891             0.015438             0.010504   \n",
       "655            -0.043473            -0.030760            -0.039115   \n",
       "737             0.002944            -0.001459             0.002159   \n",
       "\n",
       "     Total Inactive_change  Grand Total_change  \n",
       "62                     NaN                 NaN  \n",
       "126               0.141628            0.000415  \n",
       "190              -0.212957           -0.068577  \n",
       "202              -0.009947            0.000217  \n",
       "287              -0.007200            0.000252  \n",
       "368              -0.004723            0.001479  \n",
       "397              -0.004190            0.001497  \n",
       "464              -0.003558            0.002591  \n",
       "527              -0.264760            0.001770  \n",
       "586               0.012258            0.003244  \n",
       "655              -0.039251           -0.002762  \n",
       "737               0.001802           -0.001408  "
      ]
     },
     "execution_count": 22,
     "metadata": {},
     "output_type": "execute_result"
    }
   ],
   "source": [
    "pd.concat([year_2012_b,year_2012_e])"
   ]
  },
  {
   "cell_type": "code",
   "execution_count": 23,
   "metadata": {},
   "outputs": [
    {
     "data": {
      "text/plain": [
       "array(['Yuma', 'La Plata', 'Lake', 'Larimer', 'Las Animas', 'Lincoln',\n",
       "       'Logan', 'Mesa', 'Mineral', 'Moffat', 'Montezuma', 'Montrose',\n",
       "       'Morgan', 'Otero', 'Park', 'Phillips', 'Pitkin', 'Prowers',\n",
       "       'Pueblo', 'Rio Blanco', 'Rio Grande', 'Routt', 'Saguache',\n",
       "       'San Juan', 'San Miguel', 'Sedgwick', 'Summit', 'Teller',\n",
       "       'Washington', 'Weld', 'Kit Carson', 'Kiowa', 'Ouray', 'Jackson',\n",
       "       'Jefferson', 'Adams', 'Alamosa', 'Arapahoe', 'Archuleta', 'Baca',\n",
       "       'Bent', 'Boulder', 'Broomfield', 'Cheyenne', 'Clear Creek',\n",
       "       'Conejos', 'Costilla', 'Crowley', 'Custer', 'Chaffee', 'Huerfano',\n",
       "       'Delta', 'Hinsdale', 'Gunnison', 'Grand', 'Gilpin', 'Fremont',\n",
       "       'Garfield', 'El Paso', 'Eagle', 'Douglas', 'Dolores', 'Denver',\n",
       "       'Elbert'], dtype=object)"
      ]
     },
     "execution_count": 23,
     "metadata": {},
     "output_type": "execute_result"
    }
   ],
   "source": [
    "reg_totals[\"County\"].unique()"
   ]
  },
  {
   "cell_type": "markdown",
   "metadata": {},
   "source": [
    "Functions to take the year after each even year election"
   ]
  },
  {
   "cell_type": "code",
   "execution_count": 24,
   "metadata": {
    "collapsed": true
   },
   "outputs": [],
   "source": [
    "def election_label_2012(df): # reg_totals\n",
    "    counties = df[\"County\"].unique()\n",
    "    year_2012 = pd.DataFrame(columns=df.columns)\n",
    "    for count in counties:\n",
    "        county_totals = df[df[\"County\"] == count]\n",
    "        county_2012_b = county_totals[county_totals[\"Year\"] == 2012]\n",
    "        county_2012_e = county_totals[county_totals[\"Year\"] == 2013]\n",
    "        county_2012_e = county_2012_e[(county_2012_e[\"Month\"] != \"nov\") & (county_2012_e[\"Month\"] != \"dec\")]\n",
    "        county_2012 = pd.concat([county_2012_b,county_2012_e])\n",
    "        year_2012 = pd.concat([year_2012,county_2012])\n",
    "    \n",
    "    return year_2012"
   ]
  },
  {
   "cell_type": "code",
   "execution_count": 25,
   "metadata": {
    "collapsed": true
   },
   "outputs": [],
   "source": [
    "year_2012 = election_label_2012(reg_totals)"
   ]
  },
  {
   "cell_type": "code",
   "execution_count": 26,
   "metadata": {
    "collapsed": true
   },
   "outputs": [],
   "source": [
    "label_2012 = county_res[[\"County\", \"pres_2012_sim_label\"]]"
   ]
  },
  {
   "cell_type": "code",
   "execution_count": 27,
   "metadata": {},
   "outputs": [
    {
     "name": "stderr",
     "output_type": "stream",
     "text": [
      "/Users/chrisjohnson/anaconda3/lib/python3.6/site-packages/ipykernel_launcher.py:1: SettingWithCopyWarning: \n",
      "A value is trying to be set on a copy of a slice from a DataFrame.\n",
      "Try using .loc[row_indexer,col_indexer] = value instead\n",
      "\n",
      "See the caveats in the documentation: http://pandas.pydata.org/pandas-docs/stable/indexing.html#indexing-view-versus-copy\n",
      "  \"\"\"Entry point for launching an IPython kernel.\n"
     ]
    }
   ],
   "source": [
    "#Adding names instead of a binary label\n",
    "label_2012[\"pres_2012_sim_label\"] = label_2012[\"pres_2012_sim_label\"].map({0:\"Barack Obama\", 1:\"Mitt Romney\"})"
   ]
  },
  {
   "cell_type": "code",
   "execution_count": 29,
   "metadata": {
    "collapsed": true
   },
   "outputs": [],
   "source": [
    "year_2012_label = pd.merge(year_2012,label_2012, how=\"left\", on=\"County\")"
   ]
  },
  {
   "cell_type": "code",
   "execution_count": 30,
   "metadata": {
    "collapsed": true
   },
   "outputs": [],
   "source": [
    "#year_2012_label.to_csv(\"year_2012_label.csv\", index=False)"
   ]
  },
  {
   "cell_type": "code",
   "execution_count": 31,
   "metadata": {
    "collapsed": true
   },
   "outputs": [],
   "source": [
    "def election_label_2014(df): # reg_totals\n",
    "    counties = df[\"County\"].unique()\n",
    "    year_2014 = pd.DataFrame(columns=df.columns)\n",
    "    for count in counties:\n",
    "        county_totals = df[df[\"County\"] == count]\n",
    "        county_2014_b = county_totals[county_totals[\"Year\"] == 2014]\n",
    "        county_2014_b = county_2014_b[(county_2014_b[\"Month\"] == \"nov\") | (county_2014_b[\"Month\"] == \"dec\")]\n",
    "        county_2014_e = county_totals[county_totals[\"Year\"] == 2015]\n",
    "        county_2014_e = county_2014_e[(county_2014_e[\"Month\"] != \"nov\") & (county_2014_e[\"Month\"] != \"dec\")]\n",
    "        county_2014 = pd.concat([county_2014_b,county_2014_e])\n",
    "        year_2014 = pd.concat([year_2014,county_2014])\n",
    "    \n",
    "    return year_2014"
   ]
  },
  {
   "cell_type": "code",
   "execution_count": 32,
   "metadata": {
    "collapsed": true
   },
   "outputs": [],
   "source": [
    "year_2014 = election_label_2014(reg_totals)"
   ]
  },
  {
   "cell_type": "code",
   "execution_count": 33,
   "metadata": {
    "collapsed": true
   },
   "outputs": [],
   "source": [
    "label_2014 = county_res[[\"County\", \"gov_2014_sim_label\"]]"
   ]
  },
  {
   "cell_type": "code",
   "execution_count": 35,
   "metadata": {},
   "outputs": [
    {
     "name": "stderr",
     "output_type": "stream",
     "text": [
      "/Users/chrisjohnson/anaconda3/lib/python3.6/site-packages/ipykernel_launcher.py:1: SettingWithCopyWarning: \n",
      "A value is trying to be set on a copy of a slice from a DataFrame.\n",
      "Try using .loc[row_indexer,col_indexer] = value instead\n",
      "\n",
      "See the caveats in the documentation: http://pandas.pydata.org/pandas-docs/stable/indexing.html#indexing-view-versus-copy\n",
      "  \"\"\"Entry point for launching an IPython kernel.\n"
     ]
    }
   ],
   "source": [
    "#Adding names instead of a binary label\n",
    "label_2014[\"gov_2014_sim_label\"] = label_2014[\"gov_2014_sim_label\"].map({0:\"John Hickenlooper\",1:\"Bob Beauprez\"})"
   ]
  },
  {
   "cell_type": "code",
   "execution_count": 36,
   "metadata": {
    "collapsed": true
   },
   "outputs": [],
   "source": [
    "year_2014_label = pd.merge(year_2014,label_2014, how=\"left\", on=\"County\")"
   ]
  },
  {
   "cell_type": "code",
   "execution_count": 38,
   "metadata": {
    "collapsed": true
   },
   "outputs": [],
   "source": [
    "#year_2014_label.to_csv(\"year_2014_label.csv\", index=False)"
   ]
  },
  {
   "cell_type": "code",
   "execution_count": 39,
   "metadata": {
    "collapsed": true
   },
   "outputs": [],
   "source": [
    "def election_label_2016(df): # reg_totals\n",
    "    counties = df[\"County\"].unique()\n",
    "    year_2016 = pd.DataFrame(columns=df.columns)\n",
    "    for count in counties:\n",
    "        county_totals = df[df[\"County\"] == count]\n",
    "        county_2016_b = county_totals[county_totals[\"Year\"] == 2016]\n",
    "        county_2016_b = county_2016_b[(county_2016_b[\"Month\"] == \"nov\") | (county_2016_b[\"Month\"] == \"dec\")]\n",
    "        county_2016_e = county_totals[county_totals[\"Year\"] == 2017]\n",
    "        county_2016 = pd.concat([county_2016_b,county_2016_e])\n",
    "        year_2016 = pd.concat([year_2016,county_2016])\n",
    "    \n",
    "    return year_2016"
   ]
  },
  {
   "cell_type": "code",
   "execution_count": 40,
   "metadata": {
    "collapsed": true
   },
   "outputs": [],
   "source": [
    "year_2016 = election_label_2016(reg_totals)"
   ]
  },
  {
   "cell_type": "code",
   "execution_count": 41,
   "metadata": {
    "collapsed": true
   },
   "outputs": [],
   "source": [
    "label_2016 = county_res[[\"County\", \"pres_2016_sim_label\"]]"
   ]
  },
  {
   "cell_type": "code",
   "execution_count": 43,
   "metadata": {},
   "outputs": [
    {
     "name": "stderr",
     "output_type": "stream",
     "text": [
      "/Users/chrisjohnson/anaconda3/lib/python3.6/site-packages/ipykernel_launcher.py:1: SettingWithCopyWarning: \n",
      "A value is trying to be set on a copy of a slice from a DataFrame.\n",
      "Try using .loc[row_indexer,col_indexer] = value instead\n",
      "\n",
      "See the caveats in the documentation: http://pandas.pydata.org/pandas-docs/stable/indexing.html#indexing-view-versus-copy\n",
      "  \"\"\"Entry point for launching an IPython kernel.\n"
     ]
    }
   ],
   "source": [
    "#Adding names instead of a binary label\n",
    "label_2016[\"pres_2016_sim_label\"] = label_2016[\"pres_2016_sim_label\"].map({0:\"Donald Trump\",1:\"Hillary Clinton\"})"
   ]
  },
  {
   "cell_type": "code",
   "execution_count": 44,
   "metadata": {
    "collapsed": true
   },
   "outputs": [],
   "source": [
    "year_2016_label = pd.merge(year_2016,label_2016, how=\"left\", on=\"County\")"
   ]
  },
  {
   "cell_type": "code",
   "execution_count": 45,
   "metadata": {
    "collapsed": true
   },
   "outputs": [],
   "source": [
    "#year_2016_label.to_csv(\"year_2016_label.csv\", index=False)"
   ]
  },
  {
   "cell_type": "code",
   "execution_count": null,
   "metadata": {
    "collapsed": true
   },
   "outputs": [],
   "source": []
  }
 ],
 "metadata": {
  "kernelspec": {
   "display_name": "Python 3",
   "language": "python",
   "name": "python3"
  },
  "language_info": {
   "codemirror_mode": {
    "name": "ipython",
    "version": 3
   },
   "file_extension": ".py",
   "mimetype": "text/x-python",
   "name": "python",
   "nbconvert_exporter": "python",
   "pygments_lexer": "ipython3",
   "version": "3.6.3"
  }
 },
 "nbformat": 4,
 "nbformat_minor": 2
}
